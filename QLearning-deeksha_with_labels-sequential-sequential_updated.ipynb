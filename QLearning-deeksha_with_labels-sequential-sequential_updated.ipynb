{
 "cells": [
  {
   "cell_type": "code",
   "execution_count": 1,
   "metadata": {},
   "outputs": [],
   "source": [
    "import random\n",
    "import numpy as np\n",
    "import pandas as pd\n",
    "import matplotlib.pyplot as plt"
   ]
  },
  {
   "cell_type": "code",
   "execution_count": 2,
   "metadata": {},
   "outputs": [],
   "source": [
    "from IPython.display import clear_output\n",
    "from tqdm import tqdm\n",
    "import matplotlib"
   ]
  },
  {
   "cell_type": "code",
   "execution_count": 3,
   "metadata": {},
   "outputs": [],
   "source": [
    "from typing import Dict, List, Tuple\n",
    "from buffer_pool_baseline.timer import Time\n",
    "from buffer_pool_baseline.cache import Cache\n",
    "from buffer_pool_baseline.strategy import EvictionStrategy\n",
    "from buffer_pool_baseline.environment import Query"
   ]
  },
  {
   "cell_type": "code",
   "execution_count": 4,
   "metadata": {},
   "outputs": [],
   "source": [
    "%matplotlib inline"
   ]
  },
  {
   "cell_type": "code",
   "execution_count": null,
   "metadata": {},
   "outputs": [],
   "source": []
  },
  {
   "cell_type": "code",
   "execution_count": 5,
   "metadata": {},
   "outputs": [],
   "source": [
    "def setup():\n",
    "    \n",
    "    t = Time(0)\n",
    "    \n",
    "    c = Cache(cache_size, t, equate_id_to_value=True)\n",
    "    \n",
    "    start = random.randint(0, 20)\n",
    "    end = start + 5\n",
    "    \n",
    "    start_2 = start + random.randint(0, 5)\n",
    "    end_2 = start_2 + 5\n",
    "    \n",
    "    loop_size = random.randint(1, 3)\n",
    "    \n",
    "    select = Query(query_type = \"select\", time=t, parameters={\"start\": start, \"end\": end})\n",
    "    env = Query(query_type=\"join\", time=t, parameters={\"start_table_1\": start, \"end_table_1\": end, \n",
    "                                                       \"start_table_2\": start_2, \"end_table_2\": end_2})\n",
    "    env.set_query_cache(c)\n",
    "    \n",
    "    c.add_element(random.randint(0, 30))\n",
    "    c.add_element(random.randint(0, 30))\n",
    "    c.add_element(random.randint(0, 30))\n",
    "    c.add_element(random.randint(0, 30))\n",
    "    return env"
   ]
  },
  {
   "cell_type": "code",
   "execution_count": 6,
   "metadata": {},
   "outputs": [],
   "source": [
    "def multisetup():\n",
    "    \n",
    "    t = Time(0)\n",
    "    \n",
    "    c = Cache(cache_size, t, equate_id_to_value=True)\n",
    "    \n",
    "    start = random.randint(0, 20)\n",
    "    end = start + random.randint(3, 6)\n",
    "    \n",
    "    join_start = random.randint(end+6, end+11)\n",
    "    join_end = join_start + random.randint(3, 8)\n",
    "    \n",
    "    start_2 = join_start + random.randint(5, 10)\n",
    "    end_2 = start_2 + random.randint(11,16)\n",
    "    \n",
    "    \n",
    "    loop_size = random.randint(5, 7)\n",
    "    \n",
    "#     Change queries as per use case here! Name them select and join_query if you are lazy.\n",
    "\n",
    "    sequential = Query(query_type = \"sequential\", time=t, parameters={\"start\": start, \"end\": end, \"loop_size\": loop_size})\n",
    "#    join_query = Query(query_type = \"sequential\", time=t, parameters={\"start\": start_2, \"end\": end_2, \"loop_size\": loop_size})\n",
    "    \n",
    "    join_query = Query(query_type = \"join\", time=t, parameters={\"start_table_1\": join_start, \"end_table_1\": join_end, \n",
    "                                                             \"start_table_2\": start_2, \"end_table_2\": end_2})\n",
    "                                                                      \n",
    "    #join_query = Query(query_type=\"sequential\", time=t, parameters={\"start\": join_start, \"end\": join_end, \"loop_size\": loop_size})\n",
    "    \n",
    "#     c.add_element(random.randint(100, 300))\n",
    "#     c.add_element(random.randint(100, 300))\n",
    "#     c.add_element(random.randint(100, 300))\n",
    "#     c.add_element(random.randint(100, 300))\n",
    "    sequential.set_query_cache(c)\n",
    "    join_query.set_query_cache(c)\n",
    "    \n",
    "    return sequential,join_query"
   ]
  },
  {
   "cell_type": "code",
   "execution_count": 7,
   "metadata": {},
   "outputs": [],
   "source": [
    "def get_query(query_type, table_size, loop_size):\n",
    "    t = Time()\n",
    "    if query_type == \"sequential\":\n",
    "        return Query(query_type=\"sequential\", time=t, parameters={\"start\": 0, \"end\": table_size, \"loop_size\": loop_size})\n",
    "    \n",
    "    if query_type == \"select\":\n",
    "        return Query(query_type=\"select\", time=t, parameters={\"start\": 0, \"end\": table_size})\n",
    "    \n",
    "    if query_type == \"join\":\n",
    "        return Query(query_type=\"join\", time=t, parameters={\"start_table_1\": 0, \"end_table_1\": 10, \n",
    "                                                            \"start_table_2\": 0, \"end_table_2\": 10})\n",
    "    "
   ]
  },
  {
   "cell_type": "code",
   "execution_count": 8,
   "metadata": {},
   "outputs": [],
   "source": [
    "def get_time_steps_per_query(table_size, cache_size, loop_size):\n",
    "    time_steps = {}\n",
    "    \n",
    "    query_types = [\"sequential\", \"select\", \"join\"]\n",
    "    \n",
    "    for query in query_types:\n",
    "        t = Time(0)\n",
    "        env = get_query(query, table_size, loop_size)\n",
    "        c = Cache(cache_size, t, equate_id_to_value=True)\n",
    "        env.set_query_cache(c)\n",
    "\n",
    "        while not env.is_done():\n",
    "            env.step(\"mru\")\n",
    "\n",
    "        time_steps[query] = env.time.now()\n",
    "    \n",
    "    return time_steps"
   ]
  },
  {
   "cell_type": "code",
   "execution_count": 9,
   "metadata": {},
   "outputs": [],
   "source": [
    "def encode_queries(query_type, time_step, max_time_steps):\n",
    "    return max_time_steps[query_type] + time_step"
   ]
  },
  {
   "cell_type": "code",
   "execution_count": 10,
   "metadata": {},
   "outputs": [],
   "source": [
    "max_time_steps = get_time_steps_per_query(200, 4, 5)"
   ]
  },
  {
   "cell_type": "code",
   "execution_count": 11,
   "metadata": {},
   "outputs": [],
   "source": [
    "alpha = 0.0001\n",
    "gamma = 0.6\n",
    "epsilon = 0.1\n",
    "\n",
    "# For plotting metrics\n",
    "all_epochs = []\n",
    "all_penalties = []\n",
    "\n",
    "epsilon_greedy = True\n",
    "alpha_decay = False"
   ]
  },
  {
   "cell_type": "code",
   "execution_count": 12,
   "metadata": {},
   "outputs": [],
   "source": [
    "q_values_cumulative = []\n",
    "old_q = np.zeros([3000, 2])\n",
    "q_table = np.zeros([3000, 2])\n",
    "cache_size = 4\n",
    "number_of_runs = 800000"
   ]
  },
  {
   "cell_type": "code",
   "execution_count": 13,
   "metadata": {},
   "outputs": [],
   "source": [
    "epsilon_div = number_of_runs / 4\n",
    "alpha_div = number_of_runs / 5"
   ]
  },
  {
   "cell_type": "code",
   "execution_count": null,
   "metadata": {},
   "outputs": [],
   "source": []
  },
  {
   "cell_type": "code",
   "execution_count": 14,
   "metadata": {},
   "outputs": [],
   "source": [
    "def evaluate_policy(query, q_table):\n",
    "    cache_map_policy = []\n",
    "    \n",
    "    start_index = max_time_steps[query.query_type]\n",
    "    \n",
    "    reward = 0\n",
    "    \n",
    "    for d in q_table[start_index:]:\n",
    "        action = [\"mru\", \"lru\"][np.argmax(d)]\n",
    "        cache_map_policy.append({\"action\": action, \n",
    "                                 \"cache\": query.cache.cache_map.copy().keys(),\n",
    "                                \"which_element\": query.parameters.copy()})\n",
    "        query.step(action)\n",
    "        \n",
    "        if query.is_done():\n",
    "            break\n",
    "    \n",
    "    hits, misses = query.step()\n",
    "    reward = hits -  misses\n",
    "    return hits, misses\n",
    "    "
   ]
  },
  {
   "cell_type": "code",
   "execution_count": 15,
   "metadata": {},
   "outputs": [],
   "source": [
    "def get_baseline(query, action = \"lru\"):\n",
    "    cache_map_baseline = []\n",
    "    \n",
    "    while not query.is_done():\n",
    "        query.step(action)\n",
    "        cache_map_baseline.append({\"cache\": query.cache.cache_map.copy().keys(), \n",
    "                                   \"which_element\": query.parameters.copy()})\n",
    "        \n",
    "    hits, misses = query.step()\n",
    "    return hits, misses"
   ]
  },
  {
   "cell_type": "code",
   "execution_count": 16,
   "metadata": {},
   "outputs": [],
   "source": [
    "def compare_query_reward(env, q_table, t, c, c2,c3):\n",
    "    \n",
    "    params_baseline = env.parameters.copy()\n",
    "    params_random = env.parameters.copy()\n",
    "    params_policy = env.parameters.copy()\n",
    "    query_type = env.query_type\n",
    "    \n",
    "    query_baseline = Query(query_type=query_type, parameters=params_baseline, time=t)\n",
    "    \n",
    "    query_baseline.set_query_cache(c)\n",
    "    \n",
    "    query_baseline_random = Query(query_type=query_type, parameters=params_random, time=t)\n",
    "    query_baseline_random.set_query_cache(c2)\n",
    "    \n",
    "    query_policy = Query(query_type=query_type, parameters=params_policy, time=t)\n",
    "    query_policy.set_query_cache(c3)\n",
    "    \n",
    "    hits_policy, misses_policy = evaluate_policy(query_policy, q_table)\n",
    "    hits_lru, misses_lru = get_baseline(query_baseline, \"lru\")\n",
    "    hits_mru, misses_mru = get_baseline(query_baseline_random, \"mru\")\n",
    "    \n",
    "    return {\"hits_lru\": hits_lru, \"misses_lru\": misses_lru, \"hits_mru\": hits_mru, \"misses_mru\": misses_mru,\n",
    "           \"hits_policy\": hits_policy, \"misses_policy\": misses_policy, \"tm\": query_baseline.time.now()}"
   ]
  },
  {
   "cell_type": "code",
   "execution_count": 17,
   "metadata": {},
   "outputs": [],
   "source": [
    "encoded_state = []\n",
    "\n",
    "# number_of_runs = 1\n",
    "def run_multiple():\n",
    "    global epsilon, alpha\n",
    "    \n",
    "    cum_reward_plot = []\n",
    "    q_values_cumulative = []\n",
    "    reward_policy = []\n",
    "    \n",
    "    \n",
    "    for i in tqdm(range(1, number_of_runs+1)):\n",
    "\n",
    "        q1, q2 = multisetup()\n",
    "        state = encode_queries(q1.query_type, q1.time.now(), max_time_steps)\n",
    "\n",
    "        penalties, reward, = 0, 0\n",
    "        done = False\n",
    "        previous_hit, previous_miss = 0, 0\n",
    "        cum_reward = 0\n",
    "        tm = 0\n",
    "        \n",
    "        old_q = q_table.copy()\n",
    "        \n",
    "        while (not q1.is_done() or not q2.is_done()):\n",
    "            if q1.is_done():\n",
    "                env = q2\n",
    "            else:\n",
    "                env = q1\n",
    "            \n",
    "            if epsilon_greedy:\n",
    "                epsilon = 0.1/pow(10, round(i/epsilon_div))\n",
    "            \n",
    "            if random.uniform(0, 1) < epsilon:\n",
    "                action = random.choice([\"mru\", \"lru\"]) # Explore action space\n",
    "            else:\n",
    "                _action_ = np.argmax(q_table[state]) # Exploit learned values\n",
    "                action = [\"mru\", \"lru\"][_action_]\n",
    "\n",
    "            hits, miss = env.step(action)\n",
    "            next_state = encode_queries(env.query_type, env.time.now(), max_time_steps)\n",
    "            encoded_state.append(next_state)\n",
    "        \n",
    "            reward = hits - previous_hit\n",
    "            penalties = miss - previous_miss\n",
    "\n",
    "            previous_hit = hits\n",
    "            previous_miss = miss\n",
    "\n",
    "            _action_ = [\"mru\", \"lru\"].index(action)\n",
    "\n",
    "            old_value = q_table[state, _action_]\n",
    "            next_max = np.max(q_table[next_state])\n",
    "\n",
    "            r = reward - penalties\n",
    "#             if r > 0:\n",
    "#                 print(q1.parameters, q2.parameters)\n",
    "            \n",
    "            if alpha_decay:\n",
    "                alpha = 0.01/pow(10, round(i/alpha_div))\n",
    "                \n",
    "            new_value = (1 - alpha) * old_value + alpha * (r + gamma * next_max)\n",
    "            \n",
    "            q_table[state, _action_] = new_value\n",
    "            state = next_state\n",
    "            cum_reward += r\n",
    "            tm += 1\n",
    "            \n",
    "        q_values_cumulative.append({\"q_values_cumulative\": sum(sum(abs(old_q - q_table)))})\n",
    "        hits, misses = q1.step()\n",
    "        hits2, misses2 = q2.step()\n",
    "        \n",
    "        cum_reward_plot.append({\"reward\": cum_reward, \"epoch\": i, \"time\": tm, \"hits\": hits+hits2, \"misses\": misses + misses2})\n",
    "        \n",
    "        if i % 100 == 0:\n",
    "            total_hits = 0\n",
    "            total_misses = 0\n",
    "            total_hits_lru =0\n",
    "            total_misses_lru =0\n",
    "            total_hits_mru =0\n",
    "            total_misses_mru =0\n",
    "                    \n",
    "            for i in range(100):\n",
    "                q1, q2 = multisetup()\n",
    "                t = Time(0)\n",
    "                c = Cache(cache_size, time=t, equate_id_to_value=True)\n",
    "                c2 = Cache(cache_size, time=t, equate_id_to_value=True)\n",
    "                c3 = Cache(cache_size, time=t, equate_id_to_value=True)\n",
    "                \n",
    "                r1 = compare_query_reward(q1, q_table, t, c, c2, c3) \n",
    "                r2 = compare_query_reward(q2, q_table, t, c, c2, c3)\n",
    "                \n",
    "                total_r = {}\n",
    "                for x, y in r1.items():\n",
    "                    total_r[x] = y\n",
    "\n",
    "                for x, y in r2.items():\n",
    "                    total_r[x] += y\n",
    "                    \n",
    "                tm = q1.time.now() + q2.time.now()\n",
    "                \n",
    "                total_hits += total_r[\"hits_policy\"] / total_r[\"tm\"]\n",
    "                total_misses += total_r[\"misses_policy\"] / total_r[\"tm\"]\n",
    "                \n",
    "                total_hits_lru += total_r[\"hits_lru\"] / total_r[\"tm\"]\n",
    "                total_misses_lru += total_r[\"misses_lru\"] / total_r[\"tm\"]\n",
    "                \n",
    "                total_hits_mru += total_r[\"hits_mru\"] / total_r[\"tm\"]\n",
    "                total_misses_mru += total_r[\"misses_mru\"] / total_r[\"tm\"]\n",
    "            \n",
    "            reward_policy.append({\"Total Hits\": total_hits, \"Total Misses\": total_misses, \n",
    "                                  \"Total Hits MRU\": total_hits_mru, \"Total Misses MRU\": total_misses_mru,\n",
    "                                  \"Total Hits LRU\": total_hits_lru, \"Total Misses LRU\": total_misses_lru})\n",
    "            \n",
    "    return cum_reward_plot, q_values_cumulative, reward_policy\n",
    "    print(\"Training finished.\\n\")\n"
   ]
  },
  {
   "cell_type": "code",
   "execution_count": 18,
   "metadata": {
    "scrolled": true
   },
   "outputs": [
    {
     "name": "stderr",
     "output_type": "stream",
     "text": [
      "100%|███████████████████████████████████████████████████████████████████████| 800000/800000 [1:44:44<00:00, 127.29it/s]\n"
     ]
    }
   ],
   "source": [
    "cum_reward_plot, q_values_cumulative, reward = run_multiple()"
   ]
  },
  {
   "cell_type": "code",
   "execution_count": 19,
   "metadata": {},
   "outputs": [],
   "source": [
    "def compare_reward(query_type):\n",
    "    \n",
    "    env = setup()\n",
    "    params_baseline = env.parameters.copy()\n",
    "    params_random = env.parameters.copy()\n",
    "    params_policy = env.parameters.copy()\n",
    "    \n",
    "    t = Time(0)\n",
    "    query_baseline = Query(query_type=query_type, parameters=params_baseline, time=t)\n",
    "    c = Cache(cache_size, time=t, equate_id_to_value=True)\n",
    "    query_baseline.set_query_cache(c)\n",
    "    \n",
    "    query_baseline_random = Query(query_type=query_type, parameters=params_random, time=t)\n",
    "    c2 = Cache(cache_size, time=t, equate_id_to_value=True)\n",
    "    query_baseline_random.set_query_cache(c2)\n",
    "    \n",
    "    query_policy = Query(query_type=query_type, parameters=params_policy, time=t)\n",
    "    c3 = Cache(cache_size, time=t, equate_id_to_value=True)\n",
    "    query_policy.set_query_cache(c3)\n",
    "    \n",
    "    hits_policy, misses_policy = evaluate_policy(query_policy, q_table)\n",
    "    hits_baseline, misses_baseline = get_baseline(query_baseline)\n",
    "    hits_random, misses_random = get_baseline(query_baseline_random, \"random\")\n",
    "    \n",
    "    return {\"hits_random\" : hits_random, \"misses_random\": misses_random, \n",
    "            \"hits_baseline\": hits_baseline, \"misses_baseline\": misses_baseline,\n",
    "           \"hits_policy\": hits_policy, \"misses_policy\": misses_policy, \"tm\": query_baseline.time.now()}"
   ]
  },
  {
   "cell_type": "code",
   "execution_count": 20,
   "metadata": {},
   "outputs": [],
   "source": [
    "df_metrics = pd.DataFrame(reward)"
   ]
  },
  {
   "cell_type": "code",
   "execution_count": 21,
   "metadata": {},
   "outputs": [
    {
     "data": {
      "text/html": [
       "<div>\n",
       "<style scoped>\n",
       "    .dataframe tbody tr th:only-of-type {\n",
       "        vertical-align: middle;\n",
       "    }\n",
       "\n",
       "    .dataframe tbody tr th {\n",
       "        vertical-align: top;\n",
       "    }\n",
       "\n",
       "    .dataframe thead th {\n",
       "        text-align: right;\n",
       "    }\n",
       "</style>\n",
       "<table border=\"1\" class=\"dataframe\">\n",
       "  <thead>\n",
       "    <tr style=\"text-align: right;\">\n",
       "      <th></th>\n",
       "      <th>Total Hits</th>\n",
       "      <th>Total Misses</th>\n",
       "      <th>Total Hits MRU</th>\n",
       "      <th>Total Misses MRU</th>\n",
       "      <th>Total Hits LRU</th>\n",
       "      <th>Total Misses LRU</th>\n",
       "    </tr>\n",
       "  </thead>\n",
       "  <tbody>\n",
       "    <tr>\n",
       "      <td>0</td>\n",
       "      <td>8.698916</td>\n",
       "      <td>33.491970</td>\n",
       "      <td>4.773304</td>\n",
       "      <td>37.417583</td>\n",
       "      <td>17.165592</td>\n",
       "      <td>25.025294</td>\n",
       "    </tr>\n",
       "    <tr>\n",
       "      <td>1</td>\n",
       "      <td>8.871229</td>\n",
       "      <td>34.141069</td>\n",
       "      <td>4.758250</td>\n",
       "      <td>38.254049</td>\n",
       "      <td>18.218699</td>\n",
       "      <td>24.793600</td>\n",
       "    </tr>\n",
       "    <tr>\n",
       "      <td>2</td>\n",
       "      <td>8.342436</td>\n",
       "      <td>34.301751</td>\n",
       "      <td>4.857379</td>\n",
       "      <td>37.786808</td>\n",
       "      <td>17.808050</td>\n",
       "      <td>24.836137</td>\n",
       "    </tr>\n",
       "    <tr>\n",
       "      <td>3</td>\n",
       "      <td>8.563488</td>\n",
       "      <td>33.981540</td>\n",
       "      <td>4.669427</td>\n",
       "      <td>37.875601</td>\n",
       "      <td>17.214098</td>\n",
       "      <td>25.330930</td>\n",
       "    </tr>\n",
       "    <tr>\n",
       "      <td>4</td>\n",
       "      <td>9.664336</td>\n",
       "      <td>33.087187</td>\n",
       "      <td>4.940619</td>\n",
       "      <td>37.810904</td>\n",
       "      <td>18.377209</td>\n",
       "      <td>24.374314</td>\n",
       "    </tr>\n",
       "    <tr>\n",
       "      <td>...</td>\n",
       "      <td>...</td>\n",
       "      <td>...</td>\n",
       "      <td>...</td>\n",
       "      <td>...</td>\n",
       "      <td>...</td>\n",
       "      <td>...</td>\n",
       "    </tr>\n",
       "    <tr>\n",
       "      <td>7995</td>\n",
       "      <td>14.037786</td>\n",
       "      <td>28.169883</td>\n",
       "      <td>4.859039</td>\n",
       "      <td>37.348629</td>\n",
       "      <td>17.382992</td>\n",
       "      <td>24.824677</td>\n",
       "    </tr>\n",
       "    <tr>\n",
       "      <td>7996</td>\n",
       "      <td>13.967403</td>\n",
       "      <td>28.269030</td>\n",
       "      <td>4.818147</td>\n",
       "      <td>37.418287</td>\n",
       "      <td>17.755950</td>\n",
       "      <td>24.480484</td>\n",
       "    </tr>\n",
       "    <tr>\n",
       "      <td>7997</td>\n",
       "      <td>14.153808</td>\n",
       "      <td>28.218619</td>\n",
       "      <td>4.652711</td>\n",
       "      <td>37.719716</td>\n",
       "      <td>17.388718</td>\n",
       "      <td>24.983709</td>\n",
       "    </tr>\n",
       "    <tr>\n",
       "      <td>7998</td>\n",
       "      <td>14.438009</td>\n",
       "      <td>28.407606</td>\n",
       "      <td>4.900824</td>\n",
       "      <td>37.944792</td>\n",
       "      <td>18.074498</td>\n",
       "      <td>24.771117</td>\n",
       "    </tr>\n",
       "    <tr>\n",
       "      <td>7999</td>\n",
       "      <td>13.144873</td>\n",
       "      <td>28.289535</td>\n",
       "      <td>4.634053</td>\n",
       "      <td>36.800356</td>\n",
       "      <td>16.469680</td>\n",
       "      <td>24.964728</td>\n",
       "    </tr>\n",
       "  </tbody>\n",
       "</table>\n",
       "<p>8000 rows × 6 columns</p>\n",
       "</div>"
      ],
      "text/plain": [
       "      Total Hits  Total Misses  Total Hits MRU  Total Misses MRU  \\\n",
       "0       8.698916     33.491970        4.773304         37.417583   \n",
       "1       8.871229     34.141069        4.758250         38.254049   \n",
       "2       8.342436     34.301751        4.857379         37.786808   \n",
       "3       8.563488     33.981540        4.669427         37.875601   \n",
       "4       9.664336     33.087187        4.940619         37.810904   \n",
       "...          ...           ...             ...               ...   \n",
       "7995   14.037786     28.169883        4.859039         37.348629   \n",
       "7996   13.967403     28.269030        4.818147         37.418287   \n",
       "7997   14.153808     28.218619        4.652711         37.719716   \n",
       "7998   14.438009     28.407606        4.900824         37.944792   \n",
       "7999   13.144873     28.289535        4.634053         36.800356   \n",
       "\n",
       "      Total Hits LRU  Total Misses LRU  \n",
       "0          17.165592         25.025294  \n",
       "1          18.218699         24.793600  \n",
       "2          17.808050         24.836137  \n",
       "3          17.214098         25.330930  \n",
       "4          18.377209         24.374314  \n",
       "...              ...               ...  \n",
       "7995       17.382992         24.824677  \n",
       "7996       17.755950         24.480484  \n",
       "7997       17.388718         24.983709  \n",
       "7998       18.074498         24.771117  \n",
       "7999       16.469680         24.964728  \n",
       "\n",
       "[8000 rows x 6 columns]"
      ]
     },
     "execution_count": 21,
     "metadata": {},
     "output_type": "execute_result"
    }
   ],
   "source": [
    "df_metrics"
   ]
  },
  {
   "cell_type": "code",
   "execution_count": 22,
   "metadata": {},
   "outputs": [],
   "source": [
    "q1,q2=multisetup()\n",
    "filename=\"Figures/q1_{}_q2_{}_alpha_decay_{}_epsilon_greedy_{}_number_of_runs_{}_gamma_{}_trial_{}\".format(q1.query_type, q2.query_type,alpha_decay,epsilon_greedy,number_of_runs,gamma,3)"
   ]
  },
  {
   "cell_type": "code",
   "execution_count": 23,
   "metadata": {},
   "outputs": [
    {
     "data": {
      "image/png": "[encoded data removed]",
      "text/plain": [
       "<Figure size 432x288 with 1 Axes>"
      ]
     },
     "metadata": {
      "needs_background": "light"
     },
     "output_type": "display_data"
    }
   ],
   "source": [
    "(df_metrics[[\"Total Hits\", \"Total Hits MRU\", \"Total Hits LRU\"]]).plot()\n",
    "plt.title(\"Number of hits for multiple join queries for empty cache\")\n",
    "plt.xlabel(\"Validation Run\")\n",
    "plt.ylabel(\"Hits\")\n",
    "plt.savefig(filename+\"Hits.jpg\")"
   ]
  },
  {
   "cell_type": "code",
   "execution_count": 24,
   "metadata": {},
   "outputs": [],
   "source": [
    "# q1, q2 = multisetup()\n",
    "\n",
    "# h1, miss1 = evaluate_policy(q1, q_table)\n",
    "# h2, miss2 = evaluate_policy(q2, q_table)"
   ]
  },
  {
   "cell_type": "code",
   "execution_count": 25,
   "metadata": {},
   "outputs": [],
   "source": [
    "# h1, miss1, h2, miss2"
   ]
  },
  {
   "cell_type": "code",
   "execution_count": 26,
   "metadata": {},
   "outputs": [],
   "source": [
    "# q1, q2 = multisetup()\n",
    "# get_baseline(q1), get_baseline(q2)"
   ]
  },
  {
   "cell_type": "code",
   "execution_count": null,
   "metadata": {},
   "outputs": [],
   "source": []
  },
  {
   "cell_type": "code",
   "execution_count": 27,
   "metadata": {},
   "outputs": [],
   "source": [
    "df_q_value = pd.DataFrame(q_values_cumulative)"
   ]
  },
  {
   "cell_type": "code",
   "execution_count": 28,
   "metadata": {},
   "outputs": [],
   "source": [
    "# df_q_value.min(), df_q_value.max()"
   ]
  },
  {
   "cell_type": "code",
   "execution_count": null,
   "metadata": {},
   "outputs": [],
   "source": [
    "df = pd.DataFrame(cum_reward_plot)"
   ]
  },
  {
   "cell_type": "code",
   "execution_count": null,
   "metadata": {},
   "outputs": [],
   "source": [
    "df[\"r\"] = df[\"reward\"] / df[\"time\"]"
   ]
  },
  {
   "cell_type": "code",
   "execution_count": null,
   "metadata": {},
   "outputs": [],
   "source": []
  },
  {
   "cell_type": "code",
   "execution_count": null,
   "metadata": {},
   "outputs": [],
   "source": [
    "df.reward.max()"
   ]
  },
  {
   "cell_type": "code",
   "execution_count": null,
   "metadata": {
    "scrolled": true
   },
   "outputs": [],
   "source": [
    "df[\"rolling_mean\"] = df[\"r\"].rolling(200).mean()"
   ]
  },
  {
   "cell_type": "code",
   "execution_count": null,
   "metadata": {},
   "outputs": [],
   "source": [
    "df_q_value = pd.DataFrame(q_values_cumulative)\n",
    "df_q_value.head()\n",
    "df_q_value[\"rolling\"] = df_q_value.rolling(1000).mean()"
   ]
  },
  {
   "cell_type": "code",
   "execution_count": null,
   "metadata": {},
   "outputs": [],
   "source": [
    "df_q_value.columns=[\"Absolute change in Q values\", \"Average change in Q values over 200 episodes\"]\n",
    "ax=df_q_value.plot(figsize=(20,5))\n",
    "plt.xlabel(\"Episodes\")\n",
    "plt.ylabel(\"Change in Q values\")\n",
    "plt.savefig(filename+\"Q_val.jpg\")"
   ]
  },
  {
   "cell_type": "code",
   "execution_count": null,
   "metadata": {},
   "outputs": [],
   "source": [
    "df.columns=['reward', 'Episodes', 'time', 'hits', 'misses', 'r', 'Rolling average of reward over 200 episodes']"
   ]
  },
  {
   "cell_type": "code",
   "execution_count": null,
   "metadata": {},
   "outputs": [],
   "source": [
    "df.plot(y=\"Rolling average of reward over 200 episodes\", x=\"Episodes\", figsize=(20, 10))\n",
    "plt.savefig(filename+\"Reward.jpg\")"
   ]
  },
  {
   "cell_type": "code",
   "execution_count": null,
   "metadata": {},
   "outputs": [],
   "source": []
  },
  {
   "cell_type": "code",
   "execution_count": null,
   "metadata": {},
   "outputs": [],
   "source": [
    "sequential = pd.DataFrame(q_table[66:111])\n",
    "join = pd.DataFrame(q_table[111:])"
   ]
  },
  {
   "cell_type": "code",
   "execution_count": null,
   "metadata": {},
   "outputs": [],
   "source": [
    "start_of_range=66\n",
    "end_of_range=111"
   ]
  },
  {
   "cell_type": "code",
   "execution_count": null,
   "metadata": {},
   "outputs": [],
   "source": [
    "def generate_heatmap(start_of_range, end_of_range):\n",
    "    farmers = [\"mru\", \"lru\"]\n",
    "    fig, ax = plt.subplots()\n",
    "    im = ax.imshow(q_table[start_of_range:end_of_range])\n",
    "\n",
    "    # We want to show all ticks...\n",
    "    ax.set_xticks(np.arange(len(farmers)))\n",
    "    #ax.set_yticks(np.arange(len(vegetables)))\n",
    "    # ... and label them with the respective list entries\n",
    "    ax.set_xticklabels(farmers)\n",
    "    #ax.set_yticklabels(vegetables)\n",
    "\n",
    "    # Rotate the tick labels and set their alignment.\n",
    "    plt.setp(ax.get_xticklabels(), rotation=45, ha=\"right\",\n",
    "             rotation_mode=\"anchor\")\n",
    "\n",
    "    # Loop over data dimensions and create text annotations.\n",
    "    for i in range(len(q_table[start_of_range:end_of_range])):\n",
    "        for j in range(len(farmers)):\n",
    "            #print(q_table[66+i, j])\n",
    "            text = ax.text(j, i, round(q_table[start_of_range+i, j],2),\n",
    "                           ha=\"center\", va=\"center\", color=\"w\")\n",
    "    fig.set_figheight(30)\n",
    "    fig.set_figwidth(20)\n",
    "    #ax.set_title(\"Harvest of local farmers (in tons/year)\")\n",
    "    plt.show()\n",
    "    fig.savefig(filename+\"r_\"+str(start_of_range)+\"_Heatmap.jpg\")\n",
    "    #Copy to clipboard"
   ]
  },
  {
   "cell_type": "code",
   "execution_count": null,
   "metadata": {},
   "outputs": [],
   "source": [
    "query_range=[]\n",
    "for k,val in max_time_steps.items():\n",
    "    print(k)\n",
    "    query_range.append(val)\n",
    "for r in query_range:\n",
    "    generate_heatmap(r, r+20)\n",
    "    "
   ]
  },
  {
   "cell_type": "code",
   "execution_count": null,
   "metadata": {
    "scrolled": true
   },
   "outputs": [],
   "source": [
    "# def run_single():\n",
    "#     global epsilon\n",
    "    \n",
    "#     cum_reward_plot = []\n",
    "#     encoded_state = []\n",
    "\n",
    "#     for i in tqdm(range(1, number_of_runs)):\n",
    "\n",
    "#         env = setup()\n",
    "#         state = encode_queries(env.query_type, env.time.now(), max_time_steps)\n",
    "\n",
    "#         penalties, reward, = 0, 0\n",
    "#         done = False\n",
    "#         previous_hit, previous_miss = 0, 0\n",
    "#         cum_reward = 0\n",
    "#         tm = 0\n",
    "\n",
    "#         while not done:\n",
    "\n",
    "#             if random.uniform(0, 1) < epsilon:\n",
    "#                 action = random.choice(env.actions) # Explore action space\n",
    "#             else:\n",
    "#                 _action_ = np.argmax(q_table[state]) # Exploit learned values\n",
    "#                 action = \"mru\" if _action_ == 0 else \"lru\"\n",
    "\n",
    "#             hits, miss = env.step(action)\n",
    "#             next_state = encode_queries(env.query_type, env.time.now(), max_time_steps)\n",
    "#             encoded_state.append(next_state)\n",
    "\n",
    "#             reward = hits - previous_hit\n",
    "#             penalties = miss - previous_miss\n",
    "\n",
    "#             previous_hit = hits\n",
    "#             previous_miss = miss\n",
    "\n",
    "#             done = env.done\n",
    "\n",
    "#             _action_ = 0 if action == \"mru\" else 1\n",
    "\n",
    "#             old_value = q_table[state, _action_]\n",
    "#             next_max = np.max(q_table[next_state])\n",
    "\n",
    "#             r = reward - penalties\n",
    "#             new_value = (1 - alpha) * old_value + alpha * (r + gamma * next_max)\n",
    "#             q_table[state, _action_] = new_value\n",
    "#             state = next_state\n",
    "#             cum_reward += r\n",
    "#             tm += 1\n",
    "\n",
    "#         old_q = q_table.copy()\n",
    "\n",
    "#         cum_reward_plot.append({\"reward\": cum_reward, \"epoch\": i, \"time\": tm})\n",
    "\n",
    "#     print(\"Training finished.\\n\")"
   ]
  },
  {
   "cell_type": "code",
   "execution_count": null,
   "metadata": {},
   "outputs": [],
   "source": [
    "import json "
   ]
  },
  {
   "cell_type": "code",
   "execution_count": null,
   "metadata": {},
   "outputs": [],
   "source": [
    "q1, q2 = multisetup()"
   ]
  },
  {
   "cell_type": "code",
   "execution_count": null,
   "metadata": {},
   "outputs": [],
   "source": [
    "with open(filename+\".json\", \"w\") as f:\n",
    "    json.dump(q1.parameters, f)\n",
    "    json.dump(q2.parameters, f)\n",
    "    json.dump(max_time_steps, f)"
   ]
  },
  {
   "cell_type": "code",
   "execution_count": null,
   "metadata": {},
   "outputs": [],
   "source": [
    "q_table_df=pd.DataFrame(q_table[66:70])\n",
    "q_table_df.columns=[\"MRU\", \"LRU\"]\n",
    "print(q_table_df.to_latex(index=False))"
   ]
  },
  {
   "cell_type": "code",
   "execution_count": null,
   "metadata": {},
   "outputs": [],
   "source": [
    "max_time_steps"
   ]
  },
  {
   "cell_type": "code",
   "execution_count": null,
   "metadata": {},
   "outputs": [],
   "source": [
    "query_range"
   ]
  },
  {
   "cell_type": "code",
   "execution_count": null,
   "metadata": {},
   "outputs": [],
   "source": [
    "q_table[306:]"
   ]
  },
  {
   "cell_type": "code",
   "execution_count": null,
   "metadata": {},
   "outputs": [],
   "source": [
    "max(encoded_state)"
   ]
  },
  {
   "cell_type": "code",
   "execution_count": null,
   "metadata": {},
   "outputs": [],
   "source": [
    "min(encoded_state)"
   ]
  },
  {
   "cell_type": "code",
   "execution_count": null,
   "metadata": {},
   "outputs": [],
   "source": []
  }
 ],
 "metadata": {
  "kernelspec": {
   "display_name": "Python 3",
   "language": "python",
   "name": "python3"
  },
  "language_info": {
   "codemirror_mode": {
    "name": "ipython",
    "version": 3
   },
   "file_extension": ".py",
   "mimetype": "text/x-python",
   "name": "python",
   "nbconvert_exporter": "python",
   "pygments_lexer": "ipython3",
   "version": "3.7.4"
  }
 },
 "nbformat": 4,
 "nbformat_minor": 2
}
