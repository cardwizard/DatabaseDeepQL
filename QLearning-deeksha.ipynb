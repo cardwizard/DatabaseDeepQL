{
 "cells": [
  {
   "cell_type": "code",
   "execution_count": 1,
   "metadata": {},
   "outputs": [],
   "source": [
    "import random\n",
    "import numpy as np\n",
    "import pandas as pd"
   ]
  },
  {
   "cell_type": "code",
   "execution_count": 2,
   "metadata": {},
   "outputs": [],
   "source": [
    "from IPython.display import clear_output\n",
    "from tqdm import tqdm"
   ]
  },
  {
   "cell_type": "code",
   "execution_count": 3,
   "metadata": {},
   "outputs": [],
   "source": [
    "from typing import Dict, List, Tuple\n",
    "from buffer_pool_baseline.timer import Time\n",
    "from buffer_pool_baseline.cache import Cache\n",
    "from buffer_pool_baseline.strategy import EvictionStrategy\n",
    "\n",
    "\n",
    "class Query:\n",
    "    def __init__(self, query_type: str, parameters: Dict, cache: Cache = None, time: Time = None,\n",
    "                 found_in_cache_optim=True):\n",
    "        self.query_type = query_type\n",
    "        self.parameters = parameters\n",
    "        self.time = time\n",
    "\n",
    "        self.cache = cache\n",
    "        self.done = False\n",
    "\n",
    "        self.found_in_cache_optim = found_in_cache_optim\n",
    "        self.hits = 0\n",
    "        self.misses = 0\n",
    "        self.actions = [\"lru\", \"mru\"]\n",
    "\n",
    "    def copy(self):\n",
    "        q = Query(self.query_type, self.parameters, self.cache.copy(), self.time.copy())\n",
    "        q.done = self.done\n",
    "        q.found_in_cache_optim = self.found_in_cache_optim\n",
    "        q.hits = self.hits\n",
    "        q.misses = self.misses\n",
    "        return q\n",
    "\n",
    "    def set_query_cache(self, cache):\n",
    "        self.cache = cache\n",
    "\n",
    "    def set_time(self, time):\n",
    "        self.time = time\n",
    "\n",
    "    def is_done(self):\n",
    "        return self.done\n",
    "\n",
    "    def step(self, action=None):\n",
    "        if self.is_done():\n",
    "            return self.hits, self.misses\n",
    "\n",
    "        self.time.increment()\n",
    "        hits, misses, found_in_cache = None, None, None\n",
    "\n",
    "        if self.query_type == \"select\":\n",
    "            hits, misses, found_in_cache = self._step_select_query(action)\n",
    "\n",
    "        if self.query_type == \"join\":\n",
    "            hits, misses, found_in_cache = self._step_join_query(action)\n",
    "\n",
    "        if self.query_type == \"sequential\":\n",
    "            hits, misses, found_in_cache = self._step_sequential_query(action)\n",
    "\n",
    "        # If the optimizer is on, continue steos\n",
    "        if found_in_cache and self.found_in_cache_optim:\n",
    "            self.step(action)\n",
    "\n",
    "        return hits, misses\n",
    "\n",
    "    def _get_element(self, value, action):\n",
    "        next_element = self.cache.get_element_by_id(value)\n",
    "        found_in_cache = False\n",
    "\n",
    "        if next_element:\n",
    "            # Increase the hit rate if element is found!\n",
    "            self.hits += 1\n",
    "            found_in_cache = True\n",
    "        else:\n",
    "            self.cache.add_element(value, action)\n",
    "            self.misses += 1\n",
    "\n",
    "        next_element = self.cache.get_element_by_id(value)\n",
    "        return next_element, found_in_cache\n",
    "\n",
    "    def _step_select_query(self, action=None):\n",
    "        # parameter requirement: {\"start\": int, \"end\": int}\n",
    "        if self.parameters.get(\"current_position\") is None:\n",
    "            self.parameters[\"current_position\"] = self.parameters[\"start\"]\n",
    "\n",
    "        if self.parameters[\"current_position\"] == self.parameters[\"end\"]:\n",
    "            self.done = True\n",
    "            return self.hits, self.misses, False\n",
    "\n",
    "        next_element, found_in_cache = self._get_element(self.parameters[\"current_position\"], action)\n",
    "        next_element.get_value()\n",
    "\n",
    "        # Increment the current position\n",
    "        self.parameters[\"current_position\"] += 1\n",
    "\n",
    "        return self.hits, self.misses, found_in_cache\n",
    "\n",
    "    def _step_sequential_query(self, action = None):\n",
    "        if self.parameters.get(\"current_position\") is None:\n",
    "            self.parameters[\"current_position\"] = self.parameters[\"start\"]\n",
    "\n",
    "        if self.parameters.get(\"current_counter\") is None:\n",
    "            self.parameters[\"current_counter\"] = 0\n",
    "\n",
    "        if self.parameters[\"current_position\"] == self.parameters[\"end\"] and \\\n",
    "                self.parameters[\"current_counter\"] == self.parameters[\"loop_size\"]:\n",
    "            self.done = True\n",
    "            return self.hits, self.misses, False\n",
    "\n",
    "        if self.parameters[\"current_position\"] == self.parameters[\"end\"]:\n",
    "            current_element, found_in_cache = self._get_element(self.parameters[\"current_position\"], action)\n",
    "            current_element.get_value()\n",
    "\n",
    "            self.parameters[\"current_counter\"] += 1\n",
    "            self.parameters[\"current_position\"] = self.parameters[\"start\"]\n",
    "\n",
    "            return self.hits, self.misses, found_in_cache\n",
    "\n",
    "        current_element, found_in_cache = self._get_element(self.parameters[\"current_position\"], action)\n",
    "        current_element.get_value()\n",
    "\n",
    "        self.parameters[\"current_position\"] += 1\n",
    "\n",
    "        return self.hits, self.misses, found_in_cache\n",
    "\n",
    "    def _step_join_query(self, action=None):\n",
    "        # parameter requirement: {\"start_table_1\": int, \"end_table_1\": int,\n",
    "        # start_table_2\": int, \"end_table_2\": int}\n",
    "        if self.parameters.get(\"current_position_table_1\") is None:\n",
    "            self.parameters[\"current_position_table_1\"] = self.parameters[\"start_table_1\"]\n",
    "\n",
    "        if self.parameters.get(\"current_position_table_2\") is None:\n",
    "            self.parameters[\"current_position_table_2\"] = self.parameters[\"start_table_2\"]\n",
    "\n",
    "        if (self.parameters[\"current_position_table_1\"] == self.parameters[\"end_table_1\"]) and \\\n",
    "                (self.parameters[\"current_position_table_2\"] == self.parameters[\"end_table_2\"]):\n",
    "            # Query is complete\n",
    "            self.done = True\n",
    "            return self.hits, self.misses, False\n",
    "\n",
    "        if self.parameters[\"current_position_table_2\"] == self.parameters[\"end_table_2\"]:\n",
    "            # Reset the values for the next iteration\n",
    "            self.parameters[\"current_position_table_1\"] += 1\n",
    "            self.parameters[\"current_position_table_2\"] = self.parameters[\"start_table_2\"]\n",
    "\n",
    "        # Get both the elements!\n",
    "        element_1, found_in_cache_1 = self._get_element(self.parameters[\"current_position_table_1\"], action)\n",
    "        element_1.get_value()\n",
    "\n",
    "        element_2, found_in_cache_2 = self._get_element(self.parameters[\"current_position_table_2\"], action)\n",
    "        element_2.get_value()\n",
    "        self.parameters[\"current_position_table_2\"] += 1\n",
    "\n",
    "        return self.hits, self.misses, (found_in_cache_1 and found_in_cache_2)"
   ]
  },
  {
   "cell_type": "code",
   "execution_count": 4,
   "metadata": {},
   "outputs": [],
   "source": [
    "%matplotlib inline"
   ]
  },
  {
   "cell_type": "code",
   "execution_count": 5,
   "metadata": {},
   "outputs": [],
   "source": [
    "q_table = np.zeros([1000, 2])\n",
    "cache_size = 4"
   ]
  },
  {
   "cell_type": "code",
   "execution_count": 6,
   "metadata": {},
   "outputs": [],
   "source": [
    "def setup():\n",
    "    t = Time(0)\n",
    "    \n",
    "    c = Cache(cache_size, t, equate_id_to_value=True)\n",
    "    \n",
    "    start = random.randint(0, 20)\n",
    "    end = start + 5\n",
    "    loop_size = random.randint(1, 3)\n",
    "    \n",
    "    env = Query(query_type=\"sequential\", time=t, parameters={\"start\": start, \"end\": end, \"loop_size\": loop_size})\n",
    "    env.set_query_cache(c)\n",
    "    \n",
    "    c.add_element(random.randint(0, 30))\n",
    "    c.add_element(random.randint(0, 30))\n",
    "    c.add_element(random.randint(0, 30))\n",
    "    c.add_element(random.randint(0, 30))\n",
    "    return env"
   ]
  },
  {
   "cell_type": "code",
   "execution_count": 7,
   "metadata": {},
   "outputs": [],
   "source": [
    "def get_query(query_type, table_size, loop_size):\n",
    "    t = Time()\n",
    "    if query_type == \"sequential\":\n",
    "        return Query(query_type=\"sequential\", time=t, parameters={\"start\": 0, \"end\": table_size, \"loop_size\": loop_size})\n",
    "    \n",
    "    if query_type == \"select\":\n",
    "        return Query(query_type=\"select\", time=t, parameters={\"start\": 0, \"end\": table_size})\n",
    "    \n",
    "    if query_type == \"join\":\n",
    "        return Query(query_type=\"join\", time=t, parameters={\"start_table_1\": 0, \"end_table_1\": 10, \n",
    "                                                            \"start_table_2\": 0, \"end_table_2\": 10})\n",
    "    "
   ]
  },
  {
   "cell_type": "code",
   "execution_count": 8,
   "metadata": {},
   "outputs": [],
   "source": [
    "def get_time_steps_per_query(table_size, cache_size, loop_size):\n",
    "    time_steps = {}\n",
    "    \n",
    "    query_types = [\"sequential\", \"select\", \"join\"]\n",
    "    \n",
    "    for query in query_types:\n",
    "        t = Time(0)\n",
    "        env = get_query(query, table_size, loop_size)\n",
    "        c = Cache(cache_size, t, equate_id_to_value=True)\n",
    "        env.set_query_cache(c)\n",
    "\n",
    "        while not env.is_done():\n",
    "            env.step(\"mru\")\n",
    "\n",
    "        time_steps[query] = env.time.now()\n",
    "    \n",
    "    return time_steps"
   ]
  },
  {
   "cell_type": "code",
   "execution_count": 9,
   "metadata": {},
   "outputs": [],
   "source": [
    "def encode_queries(query_type, time_step, max_time_steps):\n",
    "    return max_time_steps[query_type] + time_step"
   ]
  },
  {
   "cell_type": "code",
   "execution_count": 10,
   "metadata": {},
   "outputs": [],
   "source": [
    "max_time_steps = get_time_steps_per_query(10, 4, 5)"
   ]
  },
  {
   "cell_type": "code",
   "execution_count": 11,
   "metadata": {},
   "outputs": [],
   "source": [
    "alpha = 0.0001\n",
    "gamma = 0.6\n",
    "epsilon = 0.1\n",
    "\n",
    "# For plotting metrics\n",
    "all_epochs = []\n",
    "all_penalties = []"
   ]
  },
  {
   "cell_type": "code",
   "execution_count": 12,
   "metadata": {},
   "outputs": [],
   "source": [
    "q_values_cumulative = []\n",
    "old_q = np.zeros([1000, 2])"
   ]
  },
  {
   "cell_type": "code",
   "execution_count": 13,
   "metadata": {},
   "outputs": [],
   "source": [
    "number_of_runs = 10**8"
   ]
  },
  {
   "cell_type": "code",
   "execution_count": 14,
   "metadata": {},
   "outputs": [
    {
     "name": "stderr",
     "output_type": "stream",
     "text": [
      "100%|█████████████████████████████████████████████████████████████████| 99999999/99999999 [20:01:06<00:00, 1387.61it/s]\n"
     ]
    },
    {
     "name": "stdout",
     "output_type": "stream",
     "text": [
      "Training finished.\n",
      "\n"
     ]
    }
   ],
   "source": [
    "cum_reward_plot = []\n",
    "\n",
    "for i in tqdm(range(1, number_of_runs)):\n",
    "    \n",
    "    env = setup()\n",
    "    state = encode_queries(env.query_type, env.time.now(), max_time_steps)\n",
    "    \n",
    "    penalties, reward, = 0, 0\n",
    "    done = False\n",
    "    previous_hit, previous_miss = 0, 0\n",
    "    cum_reward = 0\n",
    "    tm = 0\n",
    "    old_q = q_table.copy()\n",
    "    while not done:\n",
    "        \n",
    "        if random.uniform(0, 1) < epsilon:\n",
    "            action = random.choice(env.actions) # Explore action space\n",
    "        else:\n",
    "            _action_ = np.argmax(q_table[state]) # Exploit learned values\n",
    "            action = \"mru\" if _action_ == 0 else \"lru\"\n",
    "            \n",
    "        hits, miss = env.step(action)\n",
    "        next_state = encode_queries(env.query_type, env.time.now(), max_time_steps)\n",
    "        \n",
    "        reward = hits - previous_hit\n",
    "        penalties =miss - previous_miss\n",
    "        \n",
    "        previous_hit = hits\n",
    "        previous_miss = miss\n",
    "        \n",
    "        done = env.done\n",
    "\n",
    "        _action_ = 0 if action == \"mru\" else 1\n",
    "        \n",
    "        old_value = q_table[state, _action_]\n",
    "        next_max = np.max(q_table[next_state])\n",
    "        \n",
    "        r = reward - penalties\n",
    "        new_value = (1 - alpha) * old_value + alpha * (r + gamma * next_max)\n",
    "        q_table[state, _action_] = new_value\n",
    "        state = next_state\n",
    "        cum_reward += r\n",
    "        tm += 1\n",
    "    q_values_cumulative.append({\"q_values_cumulative\": sum(sum(abs(old_q - q_table)))})\n",
    "    cum_reward_plot.append({\"reward\": cum_reward, \"epoch\": i, \"time\": tm})\n",
    "\n",
    "print(\"Training finished.\\n\")\n",
    "\n",
    "#Can we normalize reward update somehow?"
   ]
  },
  {
   "cell_type": "code",
   "execution_count": 15,
   "metadata": {},
   "outputs": [
    {
     "data": {
      "text/html": [
       "<div>\n",
       "<style scoped>\n",
       "    .dataframe tbody tr th:only-of-type {\n",
       "        vertical-align: middle;\n",
       "    }\n",
       "\n",
       "    .dataframe tbody tr th {\n",
       "        vertical-align: top;\n",
       "    }\n",
       "\n",
       "    .dataframe thead th {\n",
       "        text-align: right;\n",
       "    }\n",
       "</style>\n",
       "<table border=\"1\" class=\"dataframe\">\n",
       "  <thead>\n",
       "    <tr style=\"text-align: right;\">\n",
       "      <th></th>\n",
       "      <th>q_values_cumulative</th>\n",
       "    </tr>\n",
       "  </thead>\n",
       "  <tbody>\n",
       "    <tr>\n",
       "      <td>0</td>\n",
       "      <td>0.0011</td>\n",
       "    </tr>\n",
       "    <tr>\n",
       "      <td>1</td>\n",
       "      <td>0.0013</td>\n",
       "    </tr>\n",
       "    <tr>\n",
       "      <td>2</td>\n",
       "      <td>0.0011</td>\n",
       "    </tr>\n",
       "    <tr>\n",
       "      <td>3</td>\n",
       "      <td>0.0017</td>\n",
       "    </tr>\n",
       "    <tr>\n",
       "      <td>4</td>\n",
       "      <td>0.0009</td>\n",
       "    </tr>\n",
       "  </tbody>\n",
       "</table>\n",
       "</div>"
      ],
      "text/plain": [
       "   q_values_cumulative\n",
       "0               0.0011\n",
       "1               0.0013\n",
       "2               0.0011\n",
       "3               0.0017\n",
       "4               0.0009"
      ]
     },
     "execution_count": 15,
     "metadata": {},
     "output_type": "execute_result"
    }
   ],
   "source": [
    "df_q_value = pd.DataFrame(q_values_cumulative)\n",
    "df_q_value.head()"
   ]
  },
  {
   "cell_type": "code",
   "execution_count": 75,
   "metadata": {},
   "outputs": [
    {
     "data": {
      "text/plain": [
       "<matplotlib.axes._subplots.AxesSubplot at 0x1b8e70a8f88>"
      ]
     },
     "execution_count": 75,
     "metadata": {},
     "output_type": "execute_result"
    },
    {
     "data": {
      "image/png": "[encoded data removed]",
      "text/plain": [
       "<Figure size 1440x360 with 1 Axes>"
      ]
     },
     "metadata": {
      "needs_background": "light"
     },
     "output_type": "display_data"
    }
   ],
   "source": [
    "df_q_value.head(400000).plot(figsize=(20,5))"
   ]
  },
  {
   "cell_type": "code",
   "execution_count": 17,
   "metadata": {},
   "outputs": [
    {
     "data": {
      "text/plain": [
       "{'sequential': 66, 'select': 11, 'join': 111}"
      ]
     },
     "execution_count": 17,
     "metadata": {},
     "output_type": "execute_result"
    }
   ],
   "source": [
    "max_time_steps"
   ]
  },
  {
   "cell_type": "code",
   "execution_count": 18,
   "metadata": {},
   "outputs": [],
   "source": [
    "def evaluate_policy(query, q_table):\n",
    "    cache_map_policy = []\n",
    "    \n",
    "    start_index = max_time_steps[query.query_type]\n",
    "    \n",
    "    reward = 0\n",
    "    \n",
    "    for d in q_table[start_index:]:\n",
    "        action = [\"mru\", \"lru\"][np.argmax(d)]\n",
    "        cache_map_policy.append({\"action\": action, \n",
    "                                 \"cache\": query.cache.cache_map.copy().keys(),\n",
    "                                \"which_element\": query.parameters.copy()})\n",
    "        query.step(action)\n",
    "        \n",
    "        if query.is_done():\n",
    "            break\n",
    "    \n",
    "    hits, misses = query.step()\n",
    "    reward = hits -  misses\n",
    "    return hits, misses\n",
    "    "
   ]
  },
  {
   "cell_type": "code",
   "execution_count": 19,
   "metadata": {},
   "outputs": [],
   "source": [
    "def get_baseline(query, action = \"mru\"):\n",
    "    cache_map_baseline = []\n",
    "    \n",
    "    while not query.is_done():\n",
    "        query.step(action)\n",
    "        cache_map_baseline.append({\"cache\": query.cache.cache_map.copy().keys(), \n",
    "                                   \"which_element\": query.parameters.copy()})\n",
    "        \n",
    "    hits, misses = query.step()\n",
    "    return hits, misses"
   ]
  },
  {
   "cell_type": "code",
   "execution_count": 20,
   "metadata": {},
   "outputs": [],
   "source": [
    "def compare_reward():\n",
    "    \n",
    "    env = setup()\n",
    "    params_baseline = env.parameters.copy()\n",
    "    params_random = env.parameters.copy()\n",
    "    params_policy = env.parameters.copy()\n",
    "    \n",
    "    t = Time(0)\n",
    "    query_baseline = Query(query_type=\"sequential\", parameters=params_baseline, time=t)\n",
    "    c = Cache(cache_size, time=t, equate_id_to_value=True)\n",
    "    query_baseline.set_query_cache(c)\n",
    "    \n",
    "    query_baseline_random = Query(query_type=\"sequential\", parameters=params_random, time=t)\n",
    "    c2 = Cache(cache_size, time=t, equate_id_to_value=True)\n",
    "    query_baseline_random.set_query_cache(c2)\n",
    "    \n",
    "    query_policy = Query(query_type=\"sequential\", parameters=params_policy, time=t)\n",
    "    c3 = Cache(cache_size, time=t, equate_id_to_value=True)\n",
    "    query_policy.set_query_cache(c3)\n",
    "    \n",
    "    hits_policy, misses_policy = evaluate_policy(query_policy, q_table)\n",
    "    hits_baseline, misses_baseline = get_baseline(query_baseline)\n",
    "    hits_random, misses_random = get_baseline(query_baseline_random, \"random\")\n",
    "    \n",
    "    return {\"hits_random\" : hits_random, \"misses_random\": misses_random, \n",
    "            \"hits_baseline\": hits_baseline, \"misses_baseline\": misses_baseline,\n",
    "           \"hits_policy\": hits_policy, \"misses_policy\": misses_policy}"
   ]
  },
  {
   "cell_type": "code",
   "execution_count": 21,
   "metadata": {},
   "outputs": [
    {
     "data": {
      "text/plain": [
       "{'hits_random': 5,\n",
       " 'misses_random': 18,\n",
       " 'hits_baseline': 11,\n",
       " 'misses_baseline': 12,\n",
       " 'hits_policy': 9,\n",
       " 'misses_policy': 14}"
      ]
     },
     "execution_count": 21,
     "metadata": {},
     "output_type": "execute_result"
    }
   ],
   "source": [
    "compare_reward()"
   ]
  },
  {
   "cell_type": "code",
   "execution_count": null,
   "metadata": {},
   "outputs": [],
   "source": []
  },
  {
   "cell_type": "code",
   "execution_count": 22,
   "metadata": {
    "scrolled": false
   },
   "outputs": [],
   "source": [
    "results = []\n",
    "\n",
    "for i in range(1000):\n",
    "    res = compare_reward()\n",
    "    results.append(res)"
   ]
  },
  {
   "cell_type": "code",
   "execution_count": 23,
   "metadata": {},
   "outputs": [],
   "source": [
    "df_results = pd.DataFrame(results)"
   ]
  },
  {
   "cell_type": "code",
   "execution_count": 24,
   "metadata": {},
   "outputs": [],
   "source": [
    "df_results[\"reward_policy\"] = df_results[\"hits_policy\"] - df_results[\"misses_policy\"]\n",
    "df_results[\"reward_random\"] = df_results[\"hits_random\"] - df_results[\"misses_random\"]\n",
    "df_results[\"reward_baseline\"] = df_results[\"hits_baseline\"] - df_results[\"misses_baseline\"]"
   ]
  },
  {
   "cell_type": "code",
   "execution_count": 25,
   "metadata": {},
   "outputs": [
    {
     "data": {
      "text/html": [
       "<div>\n",
       "<style scoped>\n",
       "    .dataframe tbody tr th:only-of-type {\n",
       "        vertical-align: middle;\n",
       "    }\n",
       "\n",
       "    .dataframe tbody tr th {\n",
       "        vertical-align: top;\n",
       "    }\n",
       "\n",
       "    .dataframe thead th {\n",
       "        text-align: right;\n",
       "    }\n",
       "</style>\n",
       "<table border=\"1\" class=\"dataframe\">\n",
       "  <thead>\n",
       "    <tr style=\"text-align: right;\">\n",
       "      <th></th>\n",
       "      <th>hits_random</th>\n",
       "      <th>misses_random</th>\n",
       "      <th>hits_baseline</th>\n",
       "      <th>misses_baseline</th>\n",
       "      <th>hits_policy</th>\n",
       "      <th>misses_policy</th>\n",
       "      <th>reward_policy</th>\n",
       "      <th>reward_random</th>\n",
       "      <th>reward_baseline</th>\n",
       "    </tr>\n",
       "  </thead>\n",
       "  <tbody>\n",
       "    <tr>\n",
       "      <td>0</td>\n",
       "      <td>4</td>\n",
       "      <td>19</td>\n",
       "      <td>11</td>\n",
       "      <td>12</td>\n",
       "      <td>9</td>\n",
       "      <td>14</td>\n",
       "      <td>-5</td>\n",
       "      <td>-15</td>\n",
       "      <td>-1</td>\n",
       "    </tr>\n",
       "    <tr>\n",
       "      <td>1</td>\n",
       "      <td>6</td>\n",
       "      <td>11</td>\n",
       "      <td>7</td>\n",
       "      <td>10</td>\n",
       "      <td>5</td>\n",
       "      <td>12</td>\n",
       "      <td>-7</td>\n",
       "      <td>-5</td>\n",
       "      <td>-3</td>\n",
       "    </tr>\n",
       "    <tr>\n",
       "      <td>2</td>\n",
       "      <td>3</td>\n",
       "      <td>8</td>\n",
       "      <td>3</td>\n",
       "      <td>8</td>\n",
       "      <td>2</td>\n",
       "      <td>9</td>\n",
       "      <td>-7</td>\n",
       "      <td>-5</td>\n",
       "      <td>-5</td>\n",
       "    </tr>\n",
       "    <tr>\n",
       "      <td>3</td>\n",
       "      <td>5</td>\n",
       "      <td>12</td>\n",
       "      <td>7</td>\n",
       "      <td>10</td>\n",
       "      <td>5</td>\n",
       "      <td>12</td>\n",
       "      <td>-7</td>\n",
       "      <td>-7</td>\n",
       "      <td>-3</td>\n",
       "    </tr>\n",
       "    <tr>\n",
       "      <td>4</td>\n",
       "      <td>2</td>\n",
       "      <td>9</td>\n",
       "      <td>3</td>\n",
       "      <td>8</td>\n",
       "      <td>2</td>\n",
       "      <td>9</td>\n",
       "      <td>-7</td>\n",
       "      <td>-7</td>\n",
       "      <td>-5</td>\n",
       "    </tr>\n",
       "    <tr>\n",
       "      <td>...</td>\n",
       "      <td>...</td>\n",
       "      <td>...</td>\n",
       "      <td>...</td>\n",
       "      <td>...</td>\n",
       "      <td>...</td>\n",
       "      <td>...</td>\n",
       "      <td>...</td>\n",
       "      <td>...</td>\n",
       "      <td>...</td>\n",
       "    </tr>\n",
       "    <tr>\n",
       "      <td>995</td>\n",
       "      <td>3</td>\n",
       "      <td>8</td>\n",
       "      <td>3</td>\n",
       "      <td>8</td>\n",
       "      <td>2</td>\n",
       "      <td>9</td>\n",
       "      <td>-7</td>\n",
       "      <td>-5</td>\n",
       "      <td>-5</td>\n",
       "    </tr>\n",
       "    <tr>\n",
       "      <td>996</td>\n",
       "      <td>4</td>\n",
       "      <td>13</td>\n",
       "      <td>7</td>\n",
       "      <td>10</td>\n",
       "      <td>5</td>\n",
       "      <td>12</td>\n",
       "      <td>-7</td>\n",
       "      <td>-9</td>\n",
       "      <td>-3</td>\n",
       "    </tr>\n",
       "    <tr>\n",
       "      <td>997</td>\n",
       "      <td>2</td>\n",
       "      <td>9</td>\n",
       "      <td>3</td>\n",
       "      <td>8</td>\n",
       "      <td>2</td>\n",
       "      <td>9</td>\n",
       "      <td>-7</td>\n",
       "      <td>-7</td>\n",
       "      <td>-5</td>\n",
       "    </tr>\n",
       "    <tr>\n",
       "      <td>998</td>\n",
       "      <td>8</td>\n",
       "      <td>15</td>\n",
       "      <td>11</td>\n",
       "      <td>12</td>\n",
       "      <td>9</td>\n",
       "      <td>14</td>\n",
       "      <td>-5</td>\n",
       "      <td>-7</td>\n",
       "      <td>-1</td>\n",
       "    </tr>\n",
       "    <tr>\n",
       "      <td>999</td>\n",
       "      <td>2</td>\n",
       "      <td>15</td>\n",
       "      <td>7</td>\n",
       "      <td>10</td>\n",
       "      <td>5</td>\n",
       "      <td>12</td>\n",
       "      <td>-7</td>\n",
       "      <td>-13</td>\n",
       "      <td>-3</td>\n",
       "    </tr>\n",
       "  </tbody>\n",
       "</table>\n",
       "<p>1000 rows × 9 columns</p>\n",
       "</div>"
      ],
      "text/plain": [
       "     hits_random  misses_random  hits_baseline  misses_baseline  hits_policy  \\\n",
       "0              4             19             11               12            9   \n",
       "1              6             11              7               10            5   \n",
       "2              3              8              3                8            2   \n",
       "3              5             12              7               10            5   \n",
       "4              2              9              3                8            2   \n",
       "..           ...            ...            ...              ...          ...   \n",
       "995            3              8              3                8            2   \n",
       "996            4             13              7               10            5   \n",
       "997            2              9              3                8            2   \n",
       "998            8             15             11               12            9   \n",
       "999            2             15              7               10            5   \n",
       "\n",
       "     misses_policy  reward_policy  reward_random  reward_baseline  \n",
       "0               14             -5            -15               -1  \n",
       "1               12             -7             -5               -3  \n",
       "2                9             -7             -5               -5  \n",
       "3               12             -7             -7               -3  \n",
       "4                9             -7             -7               -5  \n",
       "..             ...            ...            ...              ...  \n",
       "995              9             -7             -5               -5  \n",
       "996             12             -7             -9               -3  \n",
       "997              9             -7             -7               -5  \n",
       "998             14             -5             -7               -1  \n",
       "999             12             -7            -13               -3  \n",
       "\n",
       "[1000 rows x 9 columns]"
      ]
     },
     "execution_count": 25,
     "metadata": {},
     "output_type": "execute_result"
    }
   ],
   "source": [
    "df_results"
   ]
  },
  {
   "cell_type": "code",
   "execution_count": 37,
   "metadata": {},
   "outputs": [
    {
     "ename": "MemoryError",
     "evalue": "",
     "output_type": "error",
     "traceback": [
      "\u001b[1;31m---------------------------------------------------------------------------\u001b[0m",
      "\u001b[1;31mMemoryError\u001b[0m                               Traceback (most recent call last)",
      "\u001b[1;32m<ipython-input-37-c0300e45a4a6>\u001b[0m in \u001b[0;36m<module>\u001b[1;34m\u001b[0m\n\u001b[1;32m----> 1\u001b[1;33m \u001b[0mdf\u001b[0m \u001b[1;33m=\u001b[0m \u001b[0mpd\u001b[0m\u001b[1;33m.\u001b[0m\u001b[0mDataFrame\u001b[0m\u001b[1;33m(\u001b[0m\u001b[0mcum_reward_plot\u001b[0m\u001b[1;33m)\u001b[0m\u001b[1;33m\u001b[0m\u001b[1;33m\u001b[0m\u001b[0m\n\u001b[0m\u001b[0;32m      2\u001b[0m \u001b[0mdf\u001b[0m\u001b[1;33m.\u001b[0m\u001b[0mhead\u001b[0m\u001b[1;33m(\u001b[0m\u001b[1;33m)\u001b[0m\u001b[1;33m\u001b[0m\u001b[1;33m\u001b[0m\u001b[0m\n",
      "\u001b[1;32m~\\Anaconda3\\lib\\site-packages\\pandas\\core\\frame.py\u001b[0m in \u001b[0;36m__init__\u001b[1;34m(self, data, index, columns, dtype, copy)\u001b[0m\n\u001b[0;32m    448\u001b[0m                     \u001b[1;32mif\u001b[0m \u001b[0mis_named_tuple\u001b[0m\u001b[1;33m(\u001b[0m\u001b[0mdata\u001b[0m\u001b[1;33m[\u001b[0m\u001b[1;36m0\u001b[0m\u001b[1;33m]\u001b[0m\u001b[1;33m)\u001b[0m \u001b[1;32mand\u001b[0m \u001b[0mcolumns\u001b[0m \u001b[1;32mis\u001b[0m \u001b[1;32mNone\u001b[0m\u001b[1;33m:\u001b[0m\u001b[1;33m\u001b[0m\u001b[1;33m\u001b[0m\u001b[0m\n\u001b[0;32m    449\u001b[0m                         \u001b[0mcolumns\u001b[0m \u001b[1;33m=\u001b[0m \u001b[0mdata\u001b[0m\u001b[1;33m[\u001b[0m\u001b[1;36m0\u001b[0m\u001b[1;33m]\u001b[0m\u001b[1;33m.\u001b[0m\u001b[0m_fields\u001b[0m\u001b[1;33m\u001b[0m\u001b[1;33m\u001b[0m\u001b[0m\n\u001b[1;32m--> 450\u001b[1;33m                     \u001b[0marrays\u001b[0m\u001b[1;33m,\u001b[0m \u001b[0mcolumns\u001b[0m \u001b[1;33m=\u001b[0m \u001b[0mto_arrays\u001b[0m\u001b[1;33m(\u001b[0m\u001b[0mdata\u001b[0m\u001b[1;33m,\u001b[0m \u001b[0mcolumns\u001b[0m\u001b[1;33m,\u001b[0m \u001b[0mdtype\u001b[0m\u001b[1;33m=\u001b[0m\u001b[0mdtype\u001b[0m\u001b[1;33m)\u001b[0m\u001b[1;33m\u001b[0m\u001b[1;33m\u001b[0m\u001b[0m\n\u001b[0m\u001b[0;32m    451\u001b[0m                     \u001b[0mcolumns\u001b[0m \u001b[1;33m=\u001b[0m \u001b[0mensure_index\u001b[0m\u001b[1;33m(\u001b[0m\u001b[0mcolumns\u001b[0m\u001b[1;33m)\u001b[0m\u001b[1;33m\u001b[0m\u001b[1;33m\u001b[0m\u001b[0m\n\u001b[0;32m    452\u001b[0m \u001b[1;33m\u001b[0m\u001b[0m\n",
      "\u001b[1;32m~\\Anaconda3\\lib\\site-packages\\pandas\\core\\internals\\construction.py\u001b[0m in \u001b[0;36mto_arrays\u001b[1;34m(data, columns, coerce_float, dtype)\u001b[0m\n\u001b[0;32m    465\u001b[0m     \u001b[1;32melif\u001b[0m \u001b[0misinstance\u001b[0m\u001b[1;33m(\u001b[0m\u001b[0mdata\u001b[0m\u001b[1;33m[\u001b[0m\u001b[1;36m0\u001b[0m\u001b[1;33m]\u001b[0m\u001b[1;33m,\u001b[0m \u001b[0mabc\u001b[0m\u001b[1;33m.\u001b[0m\u001b[0mMapping\u001b[0m\u001b[1;33m)\u001b[0m\u001b[1;33m:\u001b[0m\u001b[1;33m\u001b[0m\u001b[1;33m\u001b[0m\u001b[0m\n\u001b[0;32m    466\u001b[0m         return _list_of_dict_to_arrays(\n\u001b[1;32m--> 467\u001b[1;33m             \u001b[0mdata\u001b[0m\u001b[1;33m,\u001b[0m \u001b[0mcolumns\u001b[0m\u001b[1;33m,\u001b[0m \u001b[0mcoerce_float\u001b[0m\u001b[1;33m=\u001b[0m\u001b[0mcoerce_float\u001b[0m\u001b[1;33m,\u001b[0m \u001b[0mdtype\u001b[0m\u001b[1;33m=\u001b[0m\u001b[0mdtype\u001b[0m\u001b[1;33m\u001b[0m\u001b[1;33m\u001b[0m\u001b[0m\n\u001b[0m\u001b[0;32m    468\u001b[0m         )\n\u001b[0;32m    469\u001b[0m     \u001b[1;32melif\u001b[0m \u001b[0misinstance\u001b[0m\u001b[1;33m(\u001b[0m\u001b[0mdata\u001b[0m\u001b[1;33m[\u001b[0m\u001b[1;36m0\u001b[0m\u001b[1;33m]\u001b[0m\u001b[1;33m,\u001b[0m \u001b[0mABCSeries\u001b[0m\u001b[1;33m)\u001b[0m\u001b[1;33m:\u001b[0m\u001b[1;33m\u001b[0m\u001b[1;33m\u001b[0m\u001b[0m\n",
      "\u001b[1;32m~\\Anaconda3\\lib\\site-packages\\pandas\\core\\internals\\construction.py\u001b[0m in \u001b[0;36m_list_of_dict_to_arrays\u001b[1;34m(data, columns, coerce_float, dtype)\u001b[0m\n\u001b[0;32m    567\u001b[0m     \u001b[0mdata\u001b[0m \u001b[1;33m=\u001b[0m \u001b[1;33m[\u001b[0m\u001b[1;33m(\u001b[0m\u001b[0mtype\u001b[0m\u001b[1;33m(\u001b[0m\u001b[0md\u001b[0m\u001b[1;33m)\u001b[0m \u001b[1;32mis\u001b[0m \u001b[0mdict\u001b[0m\u001b[1;33m)\u001b[0m \u001b[1;32mand\u001b[0m \u001b[0md\u001b[0m \u001b[1;32mor\u001b[0m \u001b[0mdict\u001b[0m\u001b[1;33m(\u001b[0m\u001b[0md\u001b[0m\u001b[1;33m)\u001b[0m \u001b[1;32mfor\u001b[0m \u001b[0md\u001b[0m \u001b[1;32min\u001b[0m \u001b[0mdata\u001b[0m\u001b[1;33m]\u001b[0m\u001b[1;33m\u001b[0m\u001b[1;33m\u001b[0m\u001b[0m\n\u001b[0;32m    568\u001b[0m \u001b[1;33m\u001b[0m\u001b[0m\n\u001b[1;32m--> 569\u001b[1;33m     \u001b[0mcontent\u001b[0m \u001b[1;33m=\u001b[0m \u001b[0mlist\u001b[0m\u001b[1;33m(\u001b[0m\u001b[0mlib\u001b[0m\u001b[1;33m.\u001b[0m\u001b[0mdicts_to_array\u001b[0m\u001b[1;33m(\u001b[0m\u001b[0mdata\u001b[0m\u001b[1;33m,\u001b[0m \u001b[0mlist\u001b[0m\u001b[1;33m(\u001b[0m\u001b[0mcolumns\u001b[0m\u001b[1;33m)\u001b[0m\u001b[1;33m)\u001b[0m\u001b[1;33m.\u001b[0m\u001b[0mT\u001b[0m\u001b[1;33m)\u001b[0m\u001b[1;33m\u001b[0m\u001b[1;33m\u001b[0m\u001b[0m\n\u001b[0m\u001b[0;32m    570\u001b[0m     return _convert_object_array(\n\u001b[0;32m    571\u001b[0m         \u001b[0mcontent\u001b[0m\u001b[1;33m,\u001b[0m \u001b[0mcolumns\u001b[0m\u001b[1;33m,\u001b[0m \u001b[0mdtype\u001b[0m\u001b[1;33m=\u001b[0m\u001b[0mdtype\u001b[0m\u001b[1;33m,\u001b[0m \u001b[0mcoerce_float\u001b[0m\u001b[1;33m=\u001b[0m\u001b[0mcoerce_float\u001b[0m\u001b[1;33m\u001b[0m\u001b[1;33m\u001b[0m\u001b[0m\n",
      "\u001b[1;32mpandas\\_libs\\lib.pyx\u001b[0m in \u001b[0;36mpandas._libs.lib.dicts_to_array\u001b[1;34m()\u001b[0m\n",
      "\u001b[1;31mMemoryError\u001b[0m: "
     ]
    }
   ],
   "source": [
    "df = pd.DataFrame(cum_reward_plot)\n",
    "df.head()"
   ]
  },
  {
   "cell_type": "code",
   "execution_count": 27,
   "metadata": {},
   "outputs": [
    {
     "data": {
      "text/html": [
       "<div>\n",
       "<style scoped>\n",
       "    .dataframe tbody tr th:only-of-type {\n",
       "        vertical-align: middle;\n",
       "    }\n",
       "\n",
       "    .dataframe tbody tr th {\n",
       "        vertical-align: top;\n",
       "    }\n",
       "\n",
       "    .dataframe thead th {\n",
       "        text-align: right;\n",
       "    }\n",
       "</style>\n",
       "<table border=\"1\" class=\"dataframe\">\n",
       "  <thead>\n",
       "    <tr style=\"text-align: right;\">\n",
       "      <th></th>\n",
       "      <th>reward</th>\n",
       "      <th>epoch</th>\n",
       "      <th>time</th>\n",
       "      <th>r</th>\n",
       "    </tr>\n",
       "  </thead>\n",
       "  <tbody>\n",
       "    <tr>\n",
       "      <td>0</td>\n",
       "      <td>-11</td>\n",
       "      <td>1</td>\n",
       "      <td>12</td>\n",
       "      <td>-0.916667</td>\n",
       "    </tr>\n",
       "    <tr>\n",
       "      <td>1</td>\n",
       "      <td>-11</td>\n",
       "      <td>2</td>\n",
       "      <td>15</td>\n",
       "      <td>-0.733333</td>\n",
       "    </tr>\n",
       "    <tr>\n",
       "      <td>2</td>\n",
       "      <td>-11</td>\n",
       "      <td>3</td>\n",
       "      <td>12</td>\n",
       "      <td>-0.916667</td>\n",
       "    </tr>\n",
       "    <tr>\n",
       "      <td>3</td>\n",
       "      <td>-9</td>\n",
       "      <td>4</td>\n",
       "      <td>17</td>\n",
       "      <td>-0.529412</td>\n",
       "    </tr>\n",
       "    <tr>\n",
       "      <td>4</td>\n",
       "      <td>-7</td>\n",
       "      <td>5</td>\n",
       "      <td>10</td>\n",
       "      <td>-0.700000</td>\n",
       "    </tr>\n",
       "  </tbody>\n",
       "</table>\n",
       "</div>"
      ],
      "text/plain": [
       "   reward  epoch  time         r\n",
       "0     -11      1    12 -0.916667\n",
       "1     -11      2    15 -0.733333\n",
       "2     -11      3    12 -0.916667\n",
       "3      -9      4    17 -0.529412\n",
       "4      -7      5    10 -0.700000"
      ]
     },
     "execution_count": 27,
     "metadata": {},
     "output_type": "execute_result"
    }
   ],
   "source": [
    "df[\"r\"] = df[\"reward\"] / df[\"time\"]\n",
    "df.head()"
   ]
  },
  {
   "cell_type": "code",
   "execution_count": 28,
   "metadata": {},
   "outputs": [],
   "source": [
    "df[\"reward\"] = (df[\"reward\"]-df[\"reward\"].mean())/df[\"reward\"].std()"
   ]
  },
  {
   "cell_type": "code",
   "execution_count": 29,
   "metadata": {
    "scrolled": true
   },
   "outputs": [],
   "source": [
    "df[\"rolling_mean\"] = df[\"r\"].rolling(window=200).mean()"
   ]
  },
  {
   "cell_type": "code",
   "execution_count": 74,
   "metadata": {},
   "outputs": [
    {
     "data": {
      "text/plain": [
       "<matplotlib.axes._subplots.AxesSubplot at 0x1b82b812748>"
      ]
     },
     "execution_count": 74,
     "metadata": {},
     "output_type": "execute_result"
    },
    {
     "data": {
      "image/png": "[encoded data removed]",
      "text/plain": [
       "<Figure size 1440x360 with 1 Axes>"
      ]
     },
     "metadata": {
      "needs_background": "light"
     },
     "output_type": "display_data"
    }
   ],
   "source": [
    "df.head(400000).plot(y=\"rolling_mean\", x=\"epoch\",figsize=(20,5))"
   ]
  },
  {
   "cell_type": "code",
   "execution_count": null,
   "metadata": {},
   "outputs": [],
   "source": [
    "len(df)"
   ]
  },
  {
   "cell_type": "code",
   "execution_count": 51,
   "metadata": {},
   "outputs": [],
   "source": [
    "result = \"Results/runs_{}_alpha_{}_gamma_{}_cache_{}.csv\".format(number_of_runs, alpha, gamma, cache_size)"
   ]
  },
  {
   "cell_type": "code",
   "execution_count": 53,
   "metadata": {},
   "outputs": [],
   "source": [
    "df.to_csv(result)"
   ]
  },
  {
   "cell_type": "code",
   "execution_count": 61,
   "metadata": {},
   "outputs": [],
   "source": [
    "import pickle"
   ]
  },
  {
   "cell_type": "code",
   "execution_count": 36,
   "metadata": {},
   "outputs": [],
   "source": [
    "pickle.dump( q_table, open( \"q_table.p\", \"wb\" ) )"
   ]
  },
  {
   "cell_type": "code",
   "execution_count": 49,
   "metadata": {},
   "outputs": [
    {
     "ename": "MemoryError",
     "evalue": "",
     "output_type": "error",
     "traceback": [
      "\u001b[1;31m---------------------------------------------------------------------------\u001b[0m",
      "\u001b[1;31mMemoryError\u001b[0m                               Traceback (most recent call last)",
      "\u001b[1;32m<ipython-input-49-6001258e5647>\u001b[0m in \u001b[0;36m<module>\u001b[1;34m\u001b[0m\n\u001b[1;32m----> 1\u001b[1;33m \u001b[0mpickle\u001b[0m\u001b[1;33m.\u001b[0m\u001b[0mdump\u001b[0m\u001b[1;33m(\u001b[0m \u001b[0mq_values_cumulative\u001b[0m\u001b[1;33m,\u001b[0m \u001b[0mopen\u001b[0m\u001b[1;33m(\u001b[0m \u001b[1;34m\"q_values_cumulative.p\"\u001b[0m\u001b[1;33m,\u001b[0m \u001b[1;34m\"wb\"\u001b[0m \u001b[1;33m)\u001b[0m \u001b[1;33m)\u001b[0m\u001b[1;33m\u001b[0m\u001b[1;33m\u001b[0m\u001b[0m\n\u001b[0m",
      "\u001b[1;31mMemoryError\u001b[0m: "
     ]
    }
   ],
   "source": [
    "pickle.dump( q_values_cumulative, open( \"q_values_cumulative.p\", \"wb\" ) )"
   ]
  },
  {
   "cell_type": "code",
   "execution_count": 54,
   "metadata": {},
   "outputs": [],
   "source": [
    "df_q_value.to_csv(result)"
   ]
  },
  {
   "cell_type": "code",
   "execution_count": 47,
   "metadata": {},
   "outputs": [],
   "source": [
    "del(cum_reward_plot)"
   ]
  },
  {
   "cell_type": "code",
   "execution_count": 62,
   "metadata": {},
   "outputs": [
    {
     "ename": "EOFError",
     "evalue": "Ran out of input",
     "output_type": "error",
     "traceback": [
      "\u001b[1;31m---------------------------------------------------------------------------\u001b[0m",
      "\u001b[1;31mEOFError\u001b[0m                                  Traceback (most recent call last)",
      "\u001b[1;32m<ipython-input-62-81241fcc5e2c>\u001b[0m in \u001b[0;36m<module>\u001b[1;34m\u001b[0m\n\u001b[1;32m----> 1\u001b[1;33m \u001b[0mq_values_cumulative\u001b[0m\u001b[1;33m=\u001b[0m\u001b[0mpickle\u001b[0m\u001b[1;33m.\u001b[0m\u001b[0mload\u001b[0m\u001b[1;33m(\u001b[0m \u001b[0mopen\u001b[0m\u001b[1;33m(\u001b[0m \u001b[1;34m\"q_values_cumulative.p\"\u001b[0m\u001b[1;33m,\u001b[0m \u001b[1;34m\"rb\"\u001b[0m \u001b[1;33m)\u001b[0m \u001b[1;33m)\u001b[0m\u001b[1;33m\u001b[0m\u001b[1;33m\u001b[0m\u001b[0m\n\u001b[0m",
      "\u001b[1;31mEOFError\u001b[0m: Ran out of input"
     ]
    }
   ],
   "source": [
    "q_values_cumulative=pickle.load( open( \"q_values_cumulative.p\", \"rb\" ) )"
   ]
  },
  {
   "cell_type": "code",
   "execution_count": 63,
   "metadata": {},
   "outputs": [
    {
     "name": "stdout",
     "output_type": "stream",
     "text": [
      "Variable                   Type                     Data/Info\n",
      "-------------------------------------------------------------\n",
      "Cache                      type                     <class 'buffer_pool_baseline.cache.Cache'>\n",
      "Dict                       _GenericAlias            typing.Dict\n",
      "EvictionStrategy           type                     <class 'buffer_pool_basel<...>rategy.EvictionStrategy'>\n",
      "List                       _GenericAlias            typing.List\n",
      "Query                      type                     <class '__main__.Query'>\n",
      "Time                       type                     <class 'buffer_pool_baseline.timer.Time'>\n",
      "Tuple                      _VariadicGenericAlias    typing.Tuple\n",
      "action                     str                      mru\n",
      "all_epochs                 list                     n=0\n",
      "all_penalties              list                     n=0\n",
      "alpha                      float                    0.0001\n",
      "cache_size                 int                      4\n",
      "clear_output               function                 <function clear_output at 0x000001A6190B93A8>\n",
      "compare_reward             function                 <function compare_reward at 0x000001B4BA5A1EE8>\n",
      "cum_reward                 int                      -1\n",
      "df                         DataFrame                            reward     ep<...>9999999 rows x 5 columns]\n",
      "df_q_value                 DataFrame                          q_values_cumula<...>9999999 rows x 1 columns]\n",
      "df_results                 DataFrame                     hits_random  misses_<...>\\n[1000 rows x 9 columns]\n",
      "done                       bool                     True\n",
      "encode_queries             function                 <function encode_queries at 0x000001A61DD4FA68>\n",
      "env                        Query                    <__main__.Query object at 0x000001A61DD84288>\n",
      "epsilon                    float                    0.1\n",
      "evaluate_policy            function                 <function evaluate_policy at 0x000001B4BA5A1318>\n",
      "gamma                      float                    0.6\n",
      "get_baseline               function                 <function get_baseline at 0x000001B4BA5A1948>\n",
      "get_query                  function                 <function get_query at 0x000001A61DD67318>\n",
      "get_time_steps_per_query   function                 <function get_time_steps_<...>ry at 0x000001A61DD67948>\n",
      "hits                       int                      11\n",
      "i                          int                      999\n",
      "max_time_steps             dict                     n=3\n",
      "miss                       int                      12\n",
      "new_value                  float64                  -0.00592388510611016\n",
      "next_max                   float64                  0.0\n",
      "next_state                 int                      90\n",
      "np                         module                   <module 'numpy' from 'C:\\<...>ges\\\\numpy\\\\__init__.py'>\n",
      "number_of_runs             int                      100000000\n",
      "old_q                      ndarray                  1000x2: 2000 elems, type `float64`, 16000 bytes\n",
      "old_value                  float64                  -0.005924477553865546\n",
      "pd                         module                   <module 'pandas' from 'C:<...>es\\\\pandas\\\\__init__.py'>\n",
      "penalties                  int                      0\n",
      "pickle                     module                   <module 'pickle' from 'C:<...>aconda3\\\\lib\\\\pickle.py'>\n",
      "previous_hit               int                      11\n",
      "previous_miss              int                      12\n",
      "q_table                    ndarray                  1000x2: 2000 elems, type `float64`, 16000 bytes\n",
      "q_values_cumulative        list                     n=99999999\n",
      "r                          int                      0\n",
      "random                     module                   <module 'random' from 'C:<...>aconda3\\\\lib\\\\random.py'>\n",
      "res                        dict                     n=6\n",
      "result                     str                      Results/runs_100000000_al<...>001_gamma_0.6_cache_4.csv\n",
      "results                    list                     n=1000\n",
      "reward                     int                      0\n",
      "setup                      function                 <function setup at 0x000001A61DD4FDC8>\n",
      "state                      int                      90\n",
      "tm                         int                      13\n",
      "tqdm                       type                     <class 'tqdm.std.tqdm'>\n"
     ]
    }
   ],
   "source": [
    "whos"
   ]
  },
  {
   "cell_type": "code",
   "execution_count": 84,
   "metadata": {},
   "outputs": [],
   "source": [
    "q_table_df=pd.DataFrame(q_table)[66:111]"
   ]
  },
  {
   "cell_type": "code",
   "execution_count": 90,
   "metadata": {},
   "outputs": [
    {
     "data": {
      "text/plain": [
       "66      True\n",
       "67     False\n",
       "68      True\n",
       "69     False\n",
       "70      True\n",
       "71     False\n",
       "72     False\n",
       "73      True\n",
       "74      True\n",
       "75     False\n",
       "76      True\n",
       "77      True\n",
       "78      True\n",
       "79      True\n",
       "80      True\n",
       "81      True\n",
       "82      True\n",
       "83      True\n",
       "84      True\n",
       "85      True\n",
       "86     False\n",
       "87      True\n",
       "88      True\n",
       "89      True\n",
       "90      True\n",
       "91      True\n",
       "92      True\n",
       "93      True\n",
       "94      True\n",
       "95      True\n",
       "96      True\n",
       "97      True\n",
       "98      True\n",
       "99      True\n",
       "100     True\n",
       "101     True\n",
       "102     True\n",
       "103     True\n",
       "104     True\n",
       "105     True\n",
       "106     True\n",
       "107     True\n",
       "108     True\n",
       "109     True\n",
       "110     True\n",
       "dtype: bool"
      ]
     },
     "execution_count": 90,
     "metadata": {},
     "output_type": "execute_result"
    }
   ],
   "source": [
    "(q_table_df[0]>=q_table_df[1])"
   ]
  },
  {
   "cell_type": "code",
   "execution_count": 83,
   "metadata": {},
   "outputs": [
    {
     "data": {
      "text/plain": [
       "{'sequential': 66, 'select': 11, 'join': 111}"
      ]
     },
     "execution_count": 83,
     "metadata": {},
     "output_type": "execute_result"
    }
   ],
   "source": [
    "max_time_steps"
   ]
  },
  {
   "cell_type": "code",
   "execution_count": 121,
   "metadata": {},
   "outputs": [
    {
     "data": {
      "image/png": "[encoded data removed]",
      "text/plain": [
       "<Figure size 1440x1080 with 1 Axes>"
      ]
     },
     "metadata": {
      "needs_background": "light"
     },
     "output_type": "display_data"
    }
   ],
   "source": [
    "import numpy as np\n",
    "import matplotlib\n",
    "import matplotlib.pyplot as plt\n",
    "# sphinx_gallery_thumbnail_number = 2\n",
    "\n",
    "farmers = [\"mru\", \"lru\"]\n",
    "fig, ax = plt.subplots()\n",
    "im = ax.imshow(q_table[66:100])\n",
    "\n",
    "# We want to show all ticks...\n",
    "ax.set_xticks(np.arange(len(farmers)))\n",
    "#ax.set_yticks(np.arange(len(vegetables)))\n",
    "# ... and label them with the respective list entries\n",
    "ax.set_xticklabels(farmers)\n",
    "#ax.set_yticklabels(vegetables)\n",
    "\n",
    "# Rotate the tick labels and set their alignment.\n",
    "plt.setp(ax.get_xticklabels(), rotation=45, ha=\"right\",\n",
    "         rotation_mode=\"anchor\")\n",
    "\n",
    "# Loop over data dimensions and create text annotations.\n",
    "for i in range(len(q_table[66:100])):\n",
    "    for j in range(len(farmers)):\n",
    "        #print(q_table[66+i, j])\n",
    "        text = ax.text(j, i, round(q_table[66+i, j],2),\n",
    "                       ha=\"center\", va=\"center\", color=\"w\")\n",
    "fig.set_figheight(15)\n",
    "fig.set_figwidth(20)\n",
    "#ax.set_title(\"Harvest of local farmers (in tons/year)\")\n",
    "plt.show()\n",
    "#Copy to clipboard"
   ]
  },
  {
   "cell_type": "code",
   "execution_count": 112,
   "metadata": {},
   "outputs": [
    {
     "data": {
      "text/plain": [
       "array([[-2.00405987, -2.01093252],\n",
       "       [-2.08318766, -2.08268152],\n",
       "       [-2.1634448 , -2.16459748],\n",
       "       [-2.09653872, -2.09633327],\n",
       "       [-2.05578109, -2.0562265 ],\n",
       "       [-1.93888079, -1.92107127],\n",
       "       [-1.68001837, -1.46662838],\n",
       "       [-1.37709646, -1.6483655 ],\n",
       "       [-0.84781307, -1.48280139],\n",
       "       [-1.16516348, -0.46660039],\n",
       "       [-1.05429269, -1.14304866],\n",
       "       [-0.48579832, -0.72683329],\n",
       "       [-0.66440885, -0.89452371],\n",
       "       [-0.27334842, -0.81099164],\n",
       "       [ 0.18618924, -0.314488  ],\n",
       "       [ 0.17126992, -0.64415447],\n",
       "       [ 0.40572407, -0.49149508],\n",
       "       [ 0.18602669, -0.30582203],\n",
       "       [ 0.19259885, -0.37612909],\n",
       "       [ 0.50381119,  0.09186156],\n",
       "       [-0.4885628 ,  0.24566512],\n",
       "       [-0.06153804, -0.49299864],\n",
       "       [ 0.2620262 , -0.15232501],\n",
       "       [-0.00592389, -0.22790293],\n",
       "       [ 0.        ,  0.        ],\n",
       "       [ 0.        ,  0.        ],\n",
       "       [ 0.        ,  0.        ],\n",
       "       [ 0.        ,  0.        ],\n",
       "       [ 0.        ,  0.        ],\n",
       "       [ 0.        ,  0.        ],\n",
       "       [ 0.        ,  0.        ],\n",
       "       [ 0.        ,  0.        ],\n",
       "       [ 0.        ,  0.        ],\n",
       "       [ 0.        ,  0.        ]])"
      ]
     },
     "execution_count": 112,
     "metadata": {},
     "output_type": "execute_result"
    }
   ],
   "source": [
    "q_table[66:100]"
   ]
  },
  {
   "cell_type": "code",
   "execution_count": 99,
   "metadata": {},
   "outputs": [],
   "source": [
    "harvest = np.array([[0.8, 2.4, 2.5, 3.9, 0.0, 4.0, 0.0],\n",
    "                    [2.4, 0.0, 4.0, 1.0, 2.7, 0.0, 0.0],\n",
    "                    [1.1, 2.4, 0.8, 4.3, 1.9, 4.4, 0.0],\n",
    "                    [0.6, 0.0, 0.3, 0.0, 3.1, 0.0, 0.0],\n",
    "                    [0.7, 1.7, 0.6, 2.6, 2.2, 6.2, 0.0],\n",
    "                    [1.3, 1.2, 0.0, 0.0, 0.0, 3.2, 5.1],\n",
    "                    [0.1, 2.0, 0.0, 1.4, 0.0, 1.9, 6.3]])"
   ]
  },
  {
   "cell_type": "code",
   "execution_count": 100,
   "metadata": {},
   "outputs": [
    {
     "data": {
      "text/plain": [
       "(7, 7)"
      ]
     },
     "execution_count": 100,
     "metadata": {},
     "output_type": "execute_result"
    }
   ],
   "source": [
    "harvest.shape"
   ]
  },
  {
   "cell_type": "code",
   "execution_count": null,
   "metadata": {},
   "outputs": [],
   "source": []
  }
 ],
 "metadata": {
  "kernelspec": {
   "display_name": "Python 3",
   "language": "python",
   "name": "python3"
  },
  "language_info": {
   "codemirror_mode": {
    "name": "ipython",
    "version": 3
   },
   "file_extension": ".py",
   "mimetype": "text/x-python",
   "name": "python",
   "nbconvert_exporter": "python",
   "pygments_lexer": "ipython3",
   "version": "3.7.4"
  }
 },
 "nbformat": 4,
 "nbformat_minor": 2
}
