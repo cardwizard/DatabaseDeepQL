{
 "cells": [
  {
   "cell_type": "code",
   "execution_count": 1,
   "metadata": {},
   "outputs": [],
   "source": [
    "import random\n",
    "import numpy as np\n",
    "import pandas as pd"
   ]
  },
  {
   "cell_type": "code",
   "execution_count": 2,
   "metadata": {},
   "outputs": [],
   "source": [
    "from IPython.display import clear_output\n",
    "from tqdm import tqdm"
   ]
  },
  {
   "cell_type": "code",
   "execution_count": 3,
   "metadata": {},
   "outputs": [],
   "source": [
    "from typing import Dict, List, Tuple\n",
    "from buffer_pool_baseline.timer import Time\n",
    "from buffer_pool_baseline.cache import Cache\n",
    "from buffer_pool_baseline.strategy import EvictionStrategy\n",
    "\n",
    "\n",
    "class Query:\n",
    "    def __init__(self, query_type: str, parameters: Dict, cache: Cache = None, time: Time = None,\n",
    "                 found_in_cache_optim=True):\n",
    "        self.query_type = query_type\n",
    "        self.parameters = parameters\n",
    "        self.time = time\n",
    "\n",
    "        self.cache = cache\n",
    "        self.done = False\n",
    "\n",
    "        self.found_in_cache_optim = found_in_cache_optim\n",
    "        self.hits = 0\n",
    "        self.misses = 0\n",
    "        self.actions = [\"lru\", \"mru\"]\n",
    "\n",
    "    def copy(self):\n",
    "        q = Query(self.query_type, self.parameters, self.cache.copy(), self.time.copy())\n",
    "        q.done = self.done\n",
    "        q.found_in_cache_optim = self.found_in_cache_optim\n",
    "        q.hits = self.hits\n",
    "        q.misses = self.misses\n",
    "        return q\n",
    "\n",
    "    def set_query_cache(self, cache):\n",
    "        self.cache = cache\n",
    "\n",
    "    def set_time(self, time):\n",
    "        self.time = time\n",
    "\n",
    "    def is_done(self):\n",
    "        return self.done\n",
    "\n",
    "    def step(self, action=None):\n",
    "        if self.is_done():\n",
    "            return self.hits, self.misses\n",
    "\n",
    "        self.time.increment()\n",
    "        hits, misses, found_in_cache = None, None, None\n",
    "\n",
    "        if self.query_type == \"select\":\n",
    "            hits, misses, found_in_cache = self._step_select_query(action)\n",
    "\n",
    "        if self.query_type == \"join\":\n",
    "            hits, misses, found_in_cache = self._step_join_query(action)\n",
    "\n",
    "        if self.query_type == \"sequential\":\n",
    "            hits, misses, found_in_cache = self._step_sequential_query(action)\n",
    "\n",
    "        # If the optimizer is on, continue steos\n",
    "        if found_in_cache and self.found_in_cache_optim:\n",
    "            self.step(action)\n",
    "\n",
    "        return hits, misses\n",
    "\n",
    "    def _get_element(self, value, action):\n",
    "        next_element = self.cache.get_element_by_id(value)\n",
    "        found_in_cache = False\n",
    "\n",
    "        if next_element:\n",
    "            # Increase the hit rate if element is found!\n",
    "            self.hits += 1\n",
    "            found_in_cache = True\n",
    "        else:\n",
    "            self.cache.add_element(value, action)\n",
    "            self.misses += 1\n",
    "\n",
    "        next_element = self.cache.get_element_by_id(value)\n",
    "        return next_element, found_in_cache\n",
    "\n",
    "    def _step_select_query(self, action=None):\n",
    "        # parameter requirement: {\"start\": int, \"end\": int}\n",
    "        if self.parameters.get(\"current_position\") is None:\n",
    "            self.parameters[\"current_position\"] = self.parameters[\"start\"]\n",
    "\n",
    "        if self.parameters[\"current_position\"] == self.parameters[\"end\"]:\n",
    "            self.done = True\n",
    "            return self.hits, self.misses, False\n",
    "\n",
    "        next_element, found_in_cache = self._get_element(self.parameters[\"current_position\"], action)\n",
    "        next_element.get_value()\n",
    "\n",
    "        # Increment the current position\n",
    "        self.parameters[\"current_position\"] += 1\n",
    "\n",
    "        return self.hits, self.misses, found_in_cache\n",
    "\n",
    "    def _step_sequential_query(self, action = None):\n",
    "        if self.parameters.get(\"current_position\") is None:\n",
    "            self.parameters[\"current_position\"] = self.parameters[\"start\"]\n",
    "\n",
    "        if self.parameters.get(\"current_counter\") is None:\n",
    "            self.parameters[\"current_counter\"] = 0\n",
    "\n",
    "        if self.parameters[\"current_position\"] == self.parameters[\"end\"] and \\\n",
    "                self.parameters[\"current_counter\"] == self.parameters[\"loop_size\"]:\n",
    "            self.done = True\n",
    "            return self.hits, self.misses, False\n",
    "\n",
    "        if self.parameters[\"current_position\"] == self.parameters[\"end\"]:\n",
    "            current_element, found_in_cache = self._get_element(self.parameters[\"current_position\"], action)\n",
    "            current_element.get_value()\n",
    "\n",
    "            self.parameters[\"current_counter\"] += 1\n",
    "            self.parameters[\"current_position\"] = self.parameters[\"start\"]\n",
    "\n",
    "            return self.hits, self.misses, found_in_cache\n",
    "\n",
    "        current_element, found_in_cache = self._get_element(self.parameters[\"current_position\"], action)\n",
    "        current_element.get_value()\n",
    "\n",
    "        self.parameters[\"current_position\"] += 1\n",
    "\n",
    "        return self.hits, self.misses, found_in_cache\n",
    "\n",
    "    def _step_join_query(self, action=None):\n",
    "        # parameter requirement: {\"start_table_1\": int, \"end_table_1\": int,\n",
    "        # start_table_2\": int, \"end_table_2\": int}\n",
    "        if self.parameters.get(\"current_position_table_1\") is None:\n",
    "            self.parameters[\"current_position_table_1\"] = self.parameters[\"start_table_1\"]\n",
    "\n",
    "        if self.parameters.get(\"current_position_table_2\") is None:\n",
    "            self.parameters[\"current_position_table_2\"] = self.parameters[\"start_table_2\"]\n",
    "\n",
    "        if (self.parameters[\"current_position_table_1\"] == self.parameters[\"end_table_1\"]) and \\\n",
    "                (self.parameters[\"current_position_table_2\"] == self.parameters[\"end_table_2\"]):\n",
    "            # Query is complete\n",
    "            self.done = True\n",
    "            return self.hits, self.misses, False\n",
    "\n",
    "        if self.parameters[\"current_position_table_2\"] == self.parameters[\"end_table_2\"]:\n",
    "            # Reset the values for the next iteration\n",
    "            self.parameters[\"current_position_table_1\"] += 1\n",
    "            self.parameters[\"current_position_table_2\"] = self.parameters[\"start_table_2\"]\n",
    "\n",
    "        # Get both the elements!\n",
    "        element_1, found_in_cache_1 = self._get_element(self.parameters[\"current_position_table_1\"], action)\n",
    "        element_1.get_value()\n",
    "\n",
    "        element_2, found_in_cache_2 = self._get_element(self.parameters[\"current_position_table_2\"], action)\n",
    "        element_2.get_value()\n",
    "        self.parameters[\"current_position_table_2\"] += 1\n",
    "\n",
    "        return self.hits, self.misses, (found_in_cache_1 and found_in_cache_2)"
   ]
  },
  {
   "cell_type": "code",
   "execution_count": 4,
   "metadata": {},
   "outputs": [],
   "source": [
    "%matplotlib inline"
   ]
  },
  {
   "cell_type": "code",
   "execution_count": 5,
   "metadata": {},
   "outputs": [],
   "source": [
    "q_table = np.zeros([1000, 2])\n",
    "cache_size = 4"
   ]
  },
  {
   "cell_type": "code",
   "execution_count": 6,
   "metadata": {},
   "outputs": [],
   "source": [
    "def setup():\n",
    "    t = Time(0)\n",
    "    \n",
    "    c = Cache(cache_size, t, equate_id_to_value=True)\n",
    "    \n",
    "    start = random.randint(0, 20)\n",
    "    end = start + 5\n",
    "    loop_size = random.randint(1, 3)\n",
    "    \n",
    "    env = Query(query_type=\"sequential\", time=t, parameters={\"start\": start, \"end\": end, \"loop_size\": loop_size})\n",
    "    env.set_query_cache(c)\n",
    "    \n",
    "    c.add_element(random.randint(0, 30))\n",
    "    c.add_element(random.randint(0, 30))\n",
    "    c.add_element(random.randint(0, 30))\n",
    "    c.add_element(random.randint(0, 30))\n",
    "    return env"
   ]
  },
  {
   "cell_type": "code",
   "execution_count": 7,
   "metadata": {},
   "outputs": [],
   "source": [
    "def get_query(query_type, table_size, loop_size):\n",
    "    t = Time()\n",
    "    if query_type == \"sequential\":\n",
    "        return Query(query_type=\"sequential\", time=t, parameters={\"start\": 0, \"end\": table_size, \"loop_size\": loop_size})\n",
    "    \n",
    "    if query_type == \"select\":\n",
    "        return Query(query_type=\"select\", time=t, parameters={\"start\": 0, \"end\": table_size})\n",
    "    \n",
    "    if query_type == \"join\":\n",
    "        return Query(query_type=\"join\", time=t, parameters={\"start_table_1\": 0, \"end_table_1\": 10, \n",
    "                                                            \"start_table_2\": 0, \"end_table_2\": 10})\n",
    "    "
   ]
  },
  {
   "cell_type": "code",
   "execution_count": 8,
   "metadata": {},
   "outputs": [],
   "source": [
    "def get_time_steps_per_query(table_size, cache_size, loop_size):\n",
    "    time_steps = {}\n",
    "    \n",
    "    query_types = [\"sequential\", \"select\", \"join\"]\n",
    "    \n",
    "    for query in query_types:\n",
    "        t = Time(0)\n",
    "        env = get_query(query, table_size, loop_size)\n",
    "        c = Cache(cache_size, t, equate_id_to_value=True)\n",
    "        env.set_query_cache(c)\n",
    "\n",
    "        while not env.is_done():\n",
    "            env.step(\"mru\")\n",
    "\n",
    "        time_steps[query] = env.time.now()\n",
    "    \n",
    "    return time_steps"
   ]
  },
  {
   "cell_type": "code",
   "execution_count": 9,
   "metadata": {},
   "outputs": [],
   "source": [
    "def encode_queries(query_type, time_step, max_time_steps):\n",
    "    return max_time_steps[query_type] + time_step"
   ]
  },
  {
   "cell_type": "code",
   "execution_count": 10,
   "metadata": {},
   "outputs": [],
   "source": [
    "max_time_steps = get_time_steps_per_query(10, 4, 5)"
   ]
  },
  {
   "cell_type": "code",
   "execution_count": 35,
   "metadata": {},
   "outputs": [],
   "source": [
    "alpha = 0.01\n",
    "gamma = 0.6\n",
    "epsilon = 0.1\n",
    "\n",
    "# For plotting metrics\n",
    "all_epochs = []\n",
    "all_penalties = []"
   ]
  },
  {
   "cell_type": "code",
   "execution_count": 36,
   "metadata": {},
   "outputs": [],
   "source": [
    "q_values_cumulative = []\n",
    "old_q = np.zeros([1000, 2])"
   ]
  },
  {
   "cell_type": "code",
   "execution_count": 47,
   "metadata": {},
   "outputs": [],
   "source": [
    "number_of_runs = 1000000"
   ]
  },
  {
   "cell_type": "code",
   "execution_count": null,
   "metadata": {},
   "outputs": [],
   "source": []
  },
  {
   "cell_type": "code",
   "execution_count": 48,
   "metadata": {},
   "outputs": [
    {
     "name": "stderr",
     "output_type": "stream",
     "text": [
      "100%|████████████████████████████████████████████████████████████████████████| 999999/999999 [11:29<00:00, 1449.36it/s]"
     ]
    },
    {
     "name": "stdout",
     "output_type": "stream",
     "text": [
      "Training finished.\n",
      "\n"
     ]
    },
    {
     "name": "stderr",
     "output_type": "stream",
     "text": [
      "\n"
     ]
    }
   ],
   "source": [
    "cum_reward_plot = []\n",
    "\n",
    "for i in tqdm(range(1, number_of_runs)):\n",
    "    \n",
    "    env = setup()\n",
    "    state = encode_queries(env.query_type, env.time.now(), max_time_steps)\n",
    "    \n",
    "    penalties, reward, = 0, 0\n",
    "    done = False\n",
    "    previous_hit, previous_miss = 0, 0\n",
    "    cum_reward = 0\n",
    "    tm = 0\n",
    "    \n",
    "    while not done:\n",
    "        \n",
    "        if random.uniform(0, 1) < epsilon:\n",
    "            action = random.choice(env.actions) # Explore action space\n",
    "        else:\n",
    "            _action_ = np.argmax(q_table[state]) # Exploit learned values\n",
    "            action = \"mru\" if _action_ == 0 else \"lru\"\n",
    "            \n",
    "        hits, miss = env.step(action)\n",
    "        next_state = encode_queries(env.query_type, env.time.now(), max_time_steps)\n",
    "        \n",
    "        reward = hits - previous_hit\n",
    "        penalties = miss - previous_miss\n",
    "        \n",
    "        previous_hit = hits\n",
    "        previous_miss = miss\n",
    "        \n",
    "        done = env.done\n",
    "\n",
    "        _action_ = 0 if action == \"mru\" else 1\n",
    "        \n",
    "        old_value = q_table[state, _action_]\n",
    "        next_max = np.max(q_table[next_state])\n",
    "        \n",
    "        r = reward - penalties\n",
    "        new_value = (1 - alpha) * old_value + alpha * (r + gamma * next_max)\n",
    "        q_table[state, _action_] = new_value\n",
    "        state = next_state\n",
    "        cum_reward += r\n",
    "        tm += 1\n",
    "        \n",
    "    old_q = q_table.copy()\n",
    "    cum_reward_plot.append({\"reward\": cum_reward, \"epoch\": i, \"time\": tm})\n",
    "\n",
    "print(\"Training finished.\\n\")"
   ]
  },
  {
   "cell_type": "code",
   "execution_count": 49,
   "metadata": {},
   "outputs": [],
   "source": [
    "df = pd.DataFrame(q_values_cumulative)"
   ]
  },
  {
   "cell_type": "code",
   "execution_count": 50,
   "metadata": {},
   "outputs": [
    {
     "data": {
      "text/plain": [
       "{'sequential': 66, 'select': 11, 'join': 111}"
      ]
     },
     "execution_count": 50,
     "metadata": {},
     "output_type": "execute_result"
    }
   ],
   "source": [
    "max_time_steps"
   ]
  },
  {
   "cell_type": "code",
   "execution_count": 64,
   "metadata": {},
   "outputs": [],
   "source": [
    "def evaluate_policy(query, q_table):\n",
    "    cache_map_policy = []\n",
    "    \n",
    "    start_index = max_time_steps[query.query_type]\n",
    "    \n",
    "    reward = 0\n",
    "    \n",
    "    for d in q_table[start_index:]:\n",
    "        action = [\"mru\", \"lru\"][np.argmax(d)]\n",
    "        cache_map_policy.append({\"action\": action, \n",
    "                                 \"cache\": query.cache.cache_map.copy().keys(),\n",
    "                                \"which_element\": query.parameters.copy()})\n",
    "        query.step(action)\n",
    "        \n",
    "        if query.is_done():\n",
    "            break\n",
    "    \n",
    "    hits, misses = query.step()\n",
    "    reward = hits -  misses\n",
    "    return hits, misses\n",
    "    "
   ]
  },
  {
   "cell_type": "code",
   "execution_count": 65,
   "metadata": {},
   "outputs": [],
   "source": [
    "def get_baseline(query, action = \"mru\"):\n",
    "    cache_map_baseline = []\n",
    "    \n",
    "    while not query.is_done():\n",
    "        query.step(action)\n",
    "        cache_map_baseline.append({\"cache\": query.cache.cache_map.copy().keys(), \n",
    "                                   \"which_element\": query.parameters.copy()})\n",
    "        \n",
    "    hits, misses = query.step()\n",
    "    return hits, misses"
   ]
  },
  {
   "cell_type": "code",
   "execution_count": 66,
   "metadata": {},
   "outputs": [],
   "source": [
    "def compare_reward():\n",
    "    \n",
    "    env = setup()\n",
    "    params_baseline = env.parameters.copy()\n",
    "    params_random = env.parameters.copy()\n",
    "    params_policy = env.parameters.copy()\n",
    "    \n",
    "    t = Time(0)\n",
    "    query_baseline = Query(query_type=\"sequential\", parameters=params_baseline, time=t)\n",
    "    c = Cache(cache_size, time=t, equate_id_to_value=True)\n",
    "    query_baseline.set_query_cache(c)\n",
    "    \n",
    "    query_baseline_random = Query(query_type=\"sequential\", parameters=params_random, time=t)\n",
    "    c2 = Cache(cache_size, time=t, equate_id_to_value=True)\n",
    "    query_baseline_random.set_query_cache(c2)\n",
    "    \n",
    "    query_policy = Query(query_type=\"sequential\", parameters=params_policy, time=t)\n",
    "    c3 = Cache(cache_size, time=t, equate_id_to_value=True)\n",
    "    query_policy.set_query_cache(c3)\n",
    "    \n",
    "    hits_policy, misses_policy = evaluate_policy(query_policy, q_table)\n",
    "    hits_baseline, misses_baseline = get_baseline(query_baseline)\n",
    "    hits_random, misses_random = get_baseline(query_baseline_random, \"random\")\n",
    "    \n",
    "    return {\"hits_random\" : hits_random, \"misses_random\": misses_random, \n",
    "            \"hits_baseline\": hits_baseline, \"misses_baseline\": misses_baseline,\n",
    "           \"hits_policy\": hits_policy, \"misses_policy\": misses_policy}"
   ]
  },
  {
   "cell_type": "code",
   "execution_count": 67,
   "metadata": {},
   "outputs": [
    {
     "data": {
      "text/plain": [
       "{'hits_random': 7,\n",
       " 'misses_random': 16,\n",
       " 'hits_baseline': 11,\n",
       " 'misses_baseline': 12,\n",
       " 'hits_policy': 10,\n",
       " 'misses_policy': 13}"
      ]
     },
     "execution_count": 67,
     "metadata": {},
     "output_type": "execute_result"
    }
   ],
   "source": [
    "compare_reward()"
   ]
  },
  {
   "cell_type": "code",
   "execution_count": null,
   "metadata": {},
   "outputs": [],
   "source": []
  },
  {
   "cell_type": "code",
   "execution_count": 68,
   "metadata": {
    "scrolled": false
   },
   "outputs": [],
   "source": [
    "results = []\n",
    "\n",
    "for i in range(1000):\n",
    "    res = compare_reward()\n",
    "    results.append(res)"
   ]
  },
  {
   "cell_type": "code",
   "execution_count": 69,
   "metadata": {},
   "outputs": [],
   "source": [
    "df_results = pd.DataFrame(results)"
   ]
  },
  {
   "cell_type": "code",
   "execution_count": 70,
   "metadata": {},
   "outputs": [],
   "source": [
    "df_results[\"reward_policy\"] = df_results[\"hits_policy\"] - df_results[\"misses_policy\"]\n",
    "df_results[\"reward_random\"] = df_results[\"hits_random\"] - df_results[\"misses_random\"]\n",
    "df_results[\"reward_baseline\"] = df_results[\"hits_baseline\"] - df_results[\"misses_baseline\"]"
   ]
  },
  {
   "cell_type": "code",
   "execution_count": 74,
   "metadata": {},
   "outputs": [
    {
     "data": {
      "text/plain": [
       "True     829\n",
       "False    171\n",
       "dtype: int64"
      ]
     },
     "execution_count": 74,
     "metadata": {},
     "output_type": "execute_result"
    }
   ],
   "source": [
    "df_results"
   ]
  },
  {
   "cell_type": "code",
   "execution_count": 75,
   "metadata": {},
   "outputs": [],
   "source": [
    "df = pd.DataFrame(cum_reward_plot)"
   ]
  },
  {
   "cell_type": "code",
   "execution_count": 76,
   "metadata": {},
   "outputs": [],
   "source": [
    "df[\"r\"] = df[\"reward\"] / df[\"time\"]"
   ]
  },
  {
   "cell_type": "code",
   "execution_count": 77,
   "metadata": {},
   "outputs": [],
   "source": [
    "df[\"reward\"] = (df[\"reward\"]-df[\"reward\"].mean())/df[\"reward\"].std()"
   ]
  },
  {
   "cell_type": "code",
   "execution_count": 90,
   "metadata": {
    "scrolled": true
   },
   "outputs": [
    {
     "ename": "AttributeError",
     "evalue": "module 'pandas' has no attribute 'rolling_mean'",
     "output_type": "error",
     "traceback": [
      "\u001b[1;31m---------------------------------------------------------------------------\u001b[0m",
      "\u001b[1;31mAttributeError\u001b[0m                            Traceback (most recent call last)",
      "\u001b[1;32m<ipython-input-90-032b048e4a0f>\u001b[0m in \u001b[0;36m<module>\u001b[1;34m\u001b[0m\n\u001b[1;32m----> 1\u001b[1;33m \u001b[0mpd\u001b[0m\u001b[1;33m.\u001b[0m\u001b[0mrolling_mean\u001b[0m\u001b[1;33m(\u001b[0m\u001b[0mdf\u001b[0m\u001b[1;33m[\u001b[0m\u001b[1;33m[\u001b[0m\u001b[1;34m\"reward\"\u001b[0m\u001b[1;33m,\u001b[0m \u001b[1;34m\"time\"\u001b[0m\u001b[1;33m,\u001b[0m \u001b[1;34m\"r\"\u001b[0m\u001b[1;33m,\u001b[0m \u001b[1;34m\"epoch\"\u001b[0m\u001b[1;33m]\u001b[0m\u001b[1;33m]\u001b[0m\u001b[1;33m,\u001b[0m \u001b[1;36m100\u001b[0m\u001b[1;33m)\u001b[0m\u001b[1;33m\u001b[0m\u001b[1;33m\u001b[0m\u001b[0m\n\u001b[0m",
      "\u001b[1;32m~\\.conda\\envs\\decidio\\lib\\site-packages\\pandas\\__init__.py\u001b[0m in \u001b[0;36m__getattr__\u001b[1;34m(name)\u001b[0m\n\u001b[0;32m    212\u001b[0m \u001b[1;33m\u001b[0m\u001b[0m\n\u001b[0;32m    213\u001b[0m             \u001b[1;32mreturn\u001b[0m \u001b[0mPanel\u001b[0m\u001b[1;33m\u001b[0m\u001b[1;33m\u001b[0m\u001b[0m\n\u001b[1;32m--> 214\u001b[1;33m         \u001b[1;32mraise\u001b[0m \u001b[0mAttributeError\u001b[0m\u001b[1;33m(\u001b[0m\u001b[1;34m\"module 'pandas' has no attribute '{}'\"\u001b[0m\u001b[1;33m.\u001b[0m\u001b[0mformat\u001b[0m\u001b[1;33m(\u001b[0m\u001b[0mname\u001b[0m\u001b[1;33m)\u001b[0m\u001b[1;33m)\u001b[0m\u001b[1;33m\u001b[0m\u001b[1;33m\u001b[0m\u001b[0m\n\u001b[0m\u001b[0;32m    215\u001b[0m \u001b[1;33m\u001b[0m\u001b[0m\n\u001b[0;32m    216\u001b[0m \u001b[1;33m\u001b[0m\u001b[0m\n",
      "\u001b[1;31mAttributeError\u001b[0m: module 'pandas' has no attribute 'rolling_mean'"
     ]
    }
   ],
   "source": [
    "df[[\"reward\", \"time\", \"r\", \"epoch\"]].rolling"
   ]
  },
  {
   "cell_type": "code",
   "execution_count": null,
   "metadata": {},
   "outputs": [],
   "source": [
    "result = \"Results/runs_{}_alpha_{}_gamma_{}_cache_{}.csv\".format(number_of_runs, alpha, gamma, cache_size)"
   ]
  },
  {
   "cell_type": "code",
   "execution_count": null,
   "metadata": {},
   "outputs": [],
   "source": [
    "df.to_csv(result)"
   ]
  },
  {
   "cell_type": "code",
   "execution_count": null,
   "metadata": {},
   "outputs": [],
   "source": []
  },
  {
   "cell_type": "code",
   "execution_count": null,
   "metadata": {},
   "outputs": [],
   "source": []
  }
 ],
 "metadata": {
  "kernelspec": {
   "display_name": "Python 3",
   "language": "python",
   "name": "python3"
  },
  "language_info": {
   "codemirror_mode": {
    "name": "ipython",
    "version": 3
   },
   "file_extension": ".py",
   "mimetype": "text/x-python",
   "name": "python",
   "nbconvert_exporter": "python",
   "pygments_lexer": "ipython3",
   "version": "3.7.4"
  }
 },
 "nbformat": 4,
 "nbformat_minor": 2
}
