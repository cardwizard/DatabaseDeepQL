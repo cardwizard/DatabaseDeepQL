{
 "cells": [
  {
   "cell_type": "code",
   "execution_count": 3,
   "metadata": {},
   "outputs": [],
   "source": [
    "import random\n",
    "import numpy as np\n",
    "import pandas as pd"
   ]
  },
  {
   "cell_type": "code",
   "execution_count": 4,
   "metadata": {},
   "outputs": [],
   "source": [
    "from buffer_pool_baseline.environment import Query, Cache, Time\n",
    "from IPython.display import clear_output\n",
    "from tqdm import tqdm"
   ]
  },
  {
   "cell_type": "code",
   "execution_count": 5,
   "metadata": {},
   "outputs": [],
   "source": [
    "%matplotlib inline"
   ]
  },
  {
   "cell_type": "code",
   "execution_count": 6,
   "metadata": {},
   "outputs": [],
   "source": [
    "q_table = np.zeros([1000, 2])\n",
    "cache_size = 4"
   ]
  },
  {
   "cell_type": "code",
   "execution_count": 7,
   "metadata": {},
   "outputs": [],
   "source": [
    "def setup():\n",
    "    t = Time(0)\n",
    "    \n",
    "    c = Cache(cache_size, t, equate_id_to_value=True)\n",
    "    \n",
    "    start = random.randint(0, 20)\n",
    "    end = start + 10\n",
    "    loop_size = random.randint(0, 2)\n",
    "    \n",
    "    env = Query(query_type=\"sequential\", time=t, parameters={\"start\": start, \"end\": end, \"loop_size\": loop_size})\n",
    "    env.set_query_cache(c)\n",
    "    \n",
    "    c.add_element(random.randint(0, 30))\n",
    "    c.add_element(random.randint(0, 30))\n",
    "    c.add_element(random.randint(0, 30))\n",
    "    c.add_element(random.randint(0, 30))\n",
    "    return env"
   ]
  },
  {
   "cell_type": "code",
   "execution_count": 16,
   "metadata": {},
   "outputs": [],
   "source": [
    "def get_query(query_type, table_size, loop_size):\n",
    "    t = Time()\n",
    "    if query_type == \"sequential\":\n",
    "        return Query(query_type=\"sequential\", time=t, parameters={\"start\": 0, \"end\": table_size, \"loop_size\": loop_size})\n",
    "    \n",
    "    if query_type == \"select\":\n",
    "        return Query(query_type=\"select\", time=t, parameters={\"start\": 0, \"end\": table_size})\n",
    "    \n",
    "    if query_type == \"join\":\n",
    "        return Query(query_type=\"join\", time=t, parameters={\"start_table_1\": 0, \"end_table_1\": 10, \n",
    "                                                            \"start_table_2\": 0, \"end_table_2\": 10})\n",
    "    "
   ]
  },
  {
   "cell_type": "code",
   "execution_count": 17,
   "metadata": {},
   "outputs": [],
   "source": [
    "def get_time_steps_per_query(table_size, cache_size, loop_size):\n",
    "    time_steps = {}\n",
    "    \n",
    "    query_types = [\"sequential\", \"select\", \"join\"]\n",
    "    \n",
    "    for query in query_types:\n",
    "        t = Time(0)\n",
    "        env = get_query(query, table_size, loop_size)\n",
    "        c = Cache(cache_size, t, equate_id_to_value=True)\n",
    "        env.set_query_cache(c)\n",
    "\n",
    "        while not env.is_done():\n",
    "            env.step(\"mru\")\n",
    "\n",
    "        time_steps[query] = env.time.now()\n",
    "    \n",
    "    return time_steps"
   ]
  },
  {
   "cell_type": "code",
   "execution_count": 18,
   "metadata": {},
   "outputs": [],
   "source": [
    "def encode_queries(query_type, time_step, max_time_steps):\n",
    "    return max_time_steps[query_type] + time_step"
   ]
  },
  {
   "cell_type": "code",
   "execution_count": 19,
   "metadata": {},
   "outputs": [],
   "source": [
    "max_time_steps = get_time_steps_per_query(10, 4, 5)"
   ]
  },
  {
   "cell_type": "code",
   "execution_count": 21,
   "metadata": {},
   "outputs": [],
   "source": [
    "alpha = 0.05\n",
    "gamma = 0.6\n",
    "epsilon = 0.1\n",
    "\n",
    "# For plotting metrics\n",
    "all_epochs = []\n",
    "all_penalties = []"
   ]
  },
  {
   "cell_type": "code",
   "execution_count": 22,
   "metadata": {},
   "outputs": [],
   "source": [
    "q_values_cumulative = []\n",
    "old_q = np.zeros([1000, 2])"
   ]
  },
  {
   "cell_type": "code",
   "execution_count": 23,
   "metadata": {},
   "outputs": [],
   "source": [
    "number_of_runs = 10000"
   ]
  },
  {
   "cell_type": "code",
   "execution_count": 24,
   "metadata": {},
   "outputs": [
    {
     "name": "stderr",
     "output_type": "stream",
     "text": [
      "100%|█████████████████████████████████████████████████████████████████████████████| 9999/9999 [00:18<00:00, 543.71it/s]"
     ]
    },
    {
     "name": "stdout",
     "output_type": "stream",
     "text": [
      "Training finished.\n",
      "\n"
     ]
    },
    {
     "name": "stderr",
     "output_type": "stream",
     "text": [
      "\n"
     ]
    }
   ],
   "source": [
    "cum_reward_plot = []\n",
    "\n",
    "for i in tqdm(range(1, number_of_runs)):\n",
    "    \n",
    "    env = setup()\n",
    "    state = encode_queries(env.query_type, env.time.now(), max_time_steps)\n",
    "    \n",
    "    penalties, reward, = 0, 0\n",
    "    done = False\n",
    "    previous_hit, previous_miss = 0, 0\n",
    "    cum_reward = 0\n",
    "    \n",
    "    while not done:\n",
    "        if random.uniform(0, 1) < epsilon:\n",
    "            action = random.choice(env.actions) # Explore action space\n",
    "        else:\n",
    "            _action_ = np.argmax(q_table[state]) # Exploit learned values\n",
    "            action = \"mru\" if _action_ == 0 else \"lru\"\n",
    "            \n",
    "        hits, miss = env.step(action)\n",
    "        next_state = encode_queries(env.query_type, env.time.now(), max_time_steps)\n",
    "        \n",
    "        reward = hits - previous_hit\n",
    "        penalties = miss - previous_miss\n",
    "        \n",
    "        cum_reward += reward\n",
    "        \n",
    "        previous_hit = hits\n",
    "        previous_miss = miss\n",
    "        \n",
    "        done = env.done\n",
    "\n",
    "        _action_ = 0 if action == \"mru\" else 1\n",
    "        \n",
    "        old_value = q_table[state, _action_]\n",
    "        next_max = np.max(q_table[next_state])\n",
    "        \n",
    "        r = reward - (10 * penalties)\n",
    "        new_value = (1 - alpha) * old_value + alpha * (r + gamma * next_max)\n",
    "        q_table[state, _action_] = new_value\n",
    "        state = next_state\n",
    "        \n",
    "    q_values_cumulative.append(sum(sum(abs(old_q - q_table))))\n",
    "    old_q = q_table.copy()\n",
    "    cum_reward_plot.append({\"reward\": cum_reward, \"epoch\": i})\n",
    "\n",
    "print(\"Training finished.\\n\")"
   ]
  },
  {
   "cell_type": "code",
   "execution_count": null,
   "metadata": {},
   "outputs": [],
   "source": [
    "df = pd.DataFrame(q_values_cumulative)"
   ]
  },
  {
   "cell_type": "code",
   "execution_count": 26,
   "metadata": {},
   "outputs": [
    {
     "data": {
      "text/plain": [
       "{'sequential': 66, 'select': 11, 'join': 111}"
      ]
     },
     "execution_count": 26,
     "metadata": {},
     "output_type": "execute_result"
    }
   ],
   "source": [
    "max_time_steps"
   ]
  },
  {
   "cell_type": "code",
   "execution_count": 59,
   "metadata": {},
   "outputs": [],
   "source": [
    "def evaluate_policy(query, q_table):\n",
    "    cache_map_policy = []\n",
    "    \n",
    "    start_index = max_time_steps[query.query_type]\n",
    "    \n",
    "    reward = 0\n",
    "    \n",
    "    for d in q_table[start_index:]:\n",
    "        action = [\"mru\", \"lru\"][np.argmax(d)]\n",
    "        cache_map_policy.append({\"action\": action, \n",
    "                                 \"cache\": query.cache.cache_map.copy().keys(),\n",
    "                                \"which_element\": query.parameters.copy()})\n",
    "        query.step(action)\n",
    "        \n",
    "        if query.is_done():\n",
    "            break\n",
    "    \n",
    "    hits, misses = query.step()\n",
    "    reward = hits - (10 * misses)\n",
    "    return reward, cache_map_policy\n",
    "    "
   ]
  },
  {
   "cell_type": "code",
   "execution_count": 60,
   "metadata": {},
   "outputs": [],
   "source": [
    "def get_baseline(query):\n",
    "    cache_map_baseline = []\n",
    "    \n",
    "    while not query.is_done():\n",
    "        query.step(\"mru\")\n",
    "        cache_map_baseline.append({\"cache\": query.cache.cache_map.copy().keys(), \n",
    "                                   \"which_element\": query.parameters.copy()})\n",
    "        \n",
    "    hits, misses = query.step()\n",
    "    return hits - (10 * misses), cache_map_baseline"
   ]
  },
  {
   "cell_type": "code",
   "execution_count": 65,
   "metadata": {},
   "outputs": [],
   "source": [
    "def compare_reward():\n",
    "    env = setup()\n",
    "\n",
    "    cache = env.cache.copy()\n",
    "    query_baseline = Query(query_type=\"sequential\", parameters=env.parameters.copy(), time=Time(0))\n",
    "    \n",
    "    cache.cache_map = {}\n",
    "    query_baseline.set_query_cache(cache)\n",
    "\n",
    "    reward_policy, cache_map_policy = evaluate_policy(env, q_table)\n",
    "    reward_baseline, cache_map_baseline = get_baseline(query_baseline)\n",
    "    \n",
    "    \n",
    "    return {\"policy\": reward_policy, \"reward_baseline\": reward_baseline,\n",
    "            \"policy_cache_map\": cache_map_policy, \"baseline_cache_map\": cache_map_baseline}"
   ]
  },
  {
   "cell_type": "code",
   "execution_count": 66,
   "metadata": {
    "scrolled": false
   },
   "outputs": [],
   "source": [
    "results = []\n",
    "\n",
    "for i\n",
    "res = compare_reward()"
   ]
  },
  {
   "cell_type": "code",
   "execution_count": 67,
   "metadata": {},
   "outputs": [
    {
     "data": {
      "text/plain": [
       "-100"
      ]
     },
     "execution_count": 67,
     "metadata": {},
     "output_type": "execute_result"
    }
   ],
   "source": [
    "res[\"reward_baseline\"]"
   ]
  },
  {
   "cell_type": "code",
   "execution_count": 68,
   "metadata": {},
   "outputs": [
    {
     "data": {
      "text/plain": [
       "-89"
      ]
     },
     "execution_count": 68,
     "metadata": {},
     "output_type": "execute_result"
    }
   ],
   "source": [
    "res[\"policy\"]"
   ]
  },
  {
   "cell_type": "code",
   "execution_count": 64,
   "metadata": {},
   "outputs": [
    {
     "data": {
      "text/plain": [
       "[{'action': 'lru',\n",
       "  'cache': dict_keys([7, 21, 9, 3]),\n",
       "  'which_element': {'start': 1,\n",
       "   'end': 11,\n",
       "   'loop_size': 2,\n",
       "   'current_position': 4,\n",
       "   'current_counter': 0}},\n",
       " {'action': 'lru',\n",
       "  'cache': dict_keys([21, 9, 3, 4]),\n",
       "  'which_element': {'start': 1,\n",
       "   'end': 11,\n",
       "   'loop_size': 2,\n",
       "   'current_position': 5,\n",
       "   'current_counter': 0}},\n",
       " {'action': 'mru',\n",
       "  'cache': dict_keys([9, 3, 4, 5]),\n",
       "  'which_element': {'start': 1,\n",
       "   'end': 11,\n",
       "   'loop_size': 2,\n",
       "   'current_position': 6,\n",
       "   'current_counter': 0}},\n",
       " {'action': 'lru',\n",
       "  'cache': dict_keys([9, 3, 4, 6]),\n",
       "  'which_element': {'start': 1,\n",
       "   'end': 11,\n",
       "   'loop_size': 2,\n",
       "   'current_position': 7,\n",
       "   'current_counter': 0}},\n",
       " {'action': 'mru',\n",
       "  'cache': dict_keys([3, 4, 6, 7]),\n",
       "  'which_element': {'start': 1,\n",
       "   'end': 11,\n",
       "   'loop_size': 2,\n",
       "   'current_position': 8,\n",
       "   'current_counter': 0}},\n",
       " {'action': 'mru',\n",
       "  'cache': dict_keys([3, 4, 6, 8]),\n",
       "  'which_element': {'start': 1,\n",
       "   'end': 11,\n",
       "   'loop_size': 2,\n",
       "   'current_position': 9,\n",
       "   'current_counter': 0}},\n",
       " {'action': 'lru',\n",
       "  'cache': dict_keys([3, 4, 6, 9]),\n",
       "  'which_element': {'start': 1,\n",
       "   'end': 11,\n",
       "   'loop_size': 2,\n",
       "   'current_position': 10,\n",
       "   'current_counter': 0}},\n",
       " {'action': 'mru',\n",
       "  'cache': dict_keys([4, 6, 9, 10]),\n",
       "  'which_element': {'start': 1,\n",
       "   'end': 11,\n",
       "   'loop_size': 2,\n",
       "   'current_position': 11,\n",
       "   'current_counter': 0}},\n",
       " {'action': 'lru',\n",
       "  'cache': dict_keys([4, 6, 9, 11]),\n",
       "  'which_element': {'start': 1,\n",
       "   'end': 11,\n",
       "   'loop_size': 2,\n",
       "   'current_position': 1,\n",
       "   'current_counter': 1}},\n",
       " {'action': 'lru',\n",
       "  'cache': dict_keys([6, 9, 11, 1]),\n",
       "  'which_element': {'start': 1,\n",
       "   'end': 11,\n",
       "   'loop_size': 2,\n",
       "   'current_position': 2,\n",
       "   'current_counter': 1}},\n",
       " {'action': 'lru',\n",
       "  'cache': dict_keys([9, 11, 1, 2]),\n",
       "  'which_element': {'start': 1,\n",
       "   'end': 11,\n",
       "   'loop_size': 2,\n",
       "   'current_position': 3,\n",
       "   'current_counter': 1}},\n",
       " {'action': 'lru',\n",
       "  'cache': dict_keys([11, 1, 2, 3]),\n",
       "  'which_element': {'start': 1,\n",
       "   'end': 11,\n",
       "   'loop_size': 2,\n",
       "   'current_position': 4,\n",
       "   'current_counter': 1}},\n",
       " {'action': 'mru',\n",
       "  'cache': dict_keys([1, 2, 3, 4]),\n",
       "  'which_element': {'start': 1,\n",
       "   'end': 11,\n",
       "   'loop_size': 2,\n",
       "   'current_position': 5,\n",
       "   'current_counter': 1}},\n",
       " {'action': 'lru',\n",
       "  'cache': dict_keys([1, 2, 3, 5]),\n",
       "  'which_element': {'start': 1,\n",
       "   'end': 11,\n",
       "   'loop_size': 2,\n",
       "   'current_position': 6,\n",
       "   'current_counter': 1}},\n",
       " {'action': 'mru',\n",
       "  'cache': dict_keys([2, 3, 5, 6]),\n",
       "  'which_element': {'start': 1,\n",
       "   'end': 11,\n",
       "   'loop_size': 2,\n",
       "   'current_position': 7,\n",
       "   'current_counter': 1}},\n",
       " {'action': 'mru',\n",
       "  'cache': dict_keys([2, 3, 5, 7]),\n",
       "  'which_element': {'start': 1,\n",
       "   'end': 11,\n",
       "   'loop_size': 2,\n",
       "   'current_position': 8,\n",
       "   'current_counter': 1}},\n",
       " {'action': 'mru',\n",
       "  'cache': dict_keys([2, 3, 5, 8]),\n",
       "  'which_element': {'start': 1,\n",
       "   'end': 11,\n",
       "   'loop_size': 2,\n",
       "   'current_position': 9,\n",
       "   'current_counter': 1}},\n",
       " {'action': 'mru',\n",
       "  'cache': dict_keys([2, 3, 5, 9]),\n",
       "  'which_element': {'start': 1,\n",
       "   'end': 11,\n",
       "   'loop_size': 2,\n",
       "   'current_position': 10,\n",
       "   'current_counter': 1}},\n",
       " {'action': 'mru',\n",
       "  'cache': dict_keys([2, 3, 5, 10]),\n",
       "  'which_element': {'start': 1,\n",
       "   'end': 11,\n",
       "   'loop_size': 2,\n",
       "   'current_position': 11,\n",
       "   'current_counter': 1}},\n",
       " {'action': 'mru',\n",
       "  'cache': dict_keys([2, 3, 5, 11]),\n",
       "  'which_element': {'start': 1,\n",
       "   'end': 11,\n",
       "   'loop_size': 2,\n",
       "   'current_position': 1,\n",
       "   'current_counter': 2}},\n",
       " {'action': 'lru',\n",
       "  'cache': dict_keys([2, 3, 5, 1]),\n",
       "  'which_element': {'start': 1,\n",
       "   'end': 11,\n",
       "   'loop_size': 2,\n",
       "   'current_position': 2,\n",
       "   'current_counter': 2}},\n",
       " {'action': 'lru',\n",
       "  'cache': dict_keys([2, 3, 1, 4]),\n",
       "  'which_element': {'start': 1,\n",
       "   'end': 11,\n",
       "   'loop_size': 2,\n",
       "   'current_position': 5,\n",
       "   'current_counter': 2}},\n",
       " {'action': 'lru',\n",
       "  'cache': dict_keys([2, 3, 4, 5]),\n",
       "  'which_element': {'start': 1,\n",
       "   'end': 11,\n",
       "   'loop_size': 2,\n",
       "   'current_position': 6,\n",
       "   'current_counter': 2}},\n",
       " {'action': 'mru',\n",
       "  'cache': dict_keys([3, 4, 5, 6]),\n",
       "  'which_element': {'start': 1,\n",
       "   'end': 11,\n",
       "   'loop_size': 2,\n",
       "   'current_position': 7,\n",
       "   'current_counter': 2}},\n",
       " {'action': 'mru',\n",
       "  'cache': dict_keys([3, 4, 5, 7]),\n",
       "  'which_element': {'start': 1,\n",
       "   'end': 11,\n",
       "   'loop_size': 2,\n",
       "   'current_position': 8,\n",
       "   'current_counter': 2}},\n",
       " {'action': 'mru',\n",
       "  'cache': dict_keys([3, 4, 5, 8]),\n",
       "  'which_element': {'start': 1,\n",
       "   'end': 11,\n",
       "   'loop_size': 2,\n",
       "   'current_position': 9,\n",
       "   'current_counter': 2}},\n",
       " {'action': 'lru',\n",
       "  'cache': dict_keys([3, 4, 5, 9]),\n",
       "  'which_element': {'start': 1,\n",
       "   'end': 11,\n",
       "   'loop_size': 2,\n",
       "   'current_position': 10,\n",
       "   'current_counter': 2}},\n",
       " {'action': 'lru',\n",
       "  'cache': dict_keys([4, 5, 9, 10]),\n",
       "  'which_element': {'start': 1,\n",
       "   'end': 11,\n",
       "   'loop_size': 2,\n",
       "   'current_position': 11,\n",
       "   'current_counter': 2}}]"
      ]
     },
     "execution_count": 64,
     "metadata": {},
     "output_type": "execute_result"
    }
   ],
   "source": [
    "res[\"policy_cache_map\"][3:]"
   ]
  },
  {
   "cell_type": "code",
   "execution_count": 69,
   "metadata": {},
   "outputs": [
    {
     "data": {
      "text/plain": [
       "[{'cache': dict_keys([3]),\n",
       "  'which_element': {'start': 3,\n",
       "   'end': 13,\n",
       "   'loop_size': 0,\n",
       "   'current_position': 4,\n",
       "   'current_counter': 0}},\n",
       " {'cache': dict_keys([3, 4]),\n",
       "  'which_element': {'start': 3,\n",
       "   'end': 13,\n",
       "   'loop_size': 0,\n",
       "   'current_position': 5,\n",
       "   'current_counter': 0}},\n",
       " {'cache': dict_keys([3, 4, 5]),\n",
       "  'which_element': {'start': 3,\n",
       "   'end': 13,\n",
       "   'loop_size': 0,\n",
       "   'current_position': 6,\n",
       "   'current_counter': 0}},\n",
       " {'cache': dict_keys([3, 4, 5, 6]),\n",
       "  'which_element': {'start': 3,\n",
       "   'end': 13,\n",
       "   'loop_size': 0,\n",
       "   'current_position': 7,\n",
       "   'current_counter': 0}},\n",
       " {'cache': dict_keys([4, 5, 6, 7]),\n",
       "  'which_element': {'start': 3,\n",
       "   'end': 13,\n",
       "   'loop_size': 0,\n",
       "   'current_position': 8,\n",
       "   'current_counter': 0}},\n",
       " {'cache': dict_keys([5, 6, 7, 8]),\n",
       "  'which_element': {'start': 3,\n",
       "   'end': 13,\n",
       "   'loop_size': 0,\n",
       "   'current_position': 9,\n",
       "   'current_counter': 0}},\n",
       " {'cache': dict_keys([6, 7, 8, 9]),\n",
       "  'which_element': {'start': 3,\n",
       "   'end': 13,\n",
       "   'loop_size': 0,\n",
       "   'current_position': 10,\n",
       "   'current_counter': 0}},\n",
       " {'cache': dict_keys([7, 8, 9, 10]),\n",
       "  'which_element': {'start': 3,\n",
       "   'end': 13,\n",
       "   'loop_size': 0,\n",
       "   'current_position': 11,\n",
       "   'current_counter': 0}},\n",
       " {'cache': dict_keys([8, 9, 10, 11]),\n",
       "  'which_element': {'start': 3,\n",
       "   'end': 13,\n",
       "   'loop_size': 0,\n",
       "   'current_position': 12,\n",
       "   'current_counter': 0}},\n",
       " {'cache': dict_keys([9, 10, 11, 12]),\n",
       "  'which_element': {'start': 3,\n",
       "   'end': 13,\n",
       "   'loop_size': 0,\n",
       "   'current_position': 13,\n",
       "   'current_counter': 0}},\n",
       " {'cache': dict_keys([9, 10, 11, 12]),\n",
       "  'which_element': {'start': 3,\n",
       "   'end': 13,\n",
       "   'loop_size': 0,\n",
       "   'current_position': 13,\n",
       "   'current_counter': 0}}]"
      ]
     },
     "execution_count": 69,
     "metadata": {},
     "output_type": "execute_result"
    }
   ],
   "source": [
    "res[\"baseline_cache_map\"]"
   ]
  },
  {
   "cell_type": "code",
   "execution_count": null,
   "metadata": {},
   "outputs": [],
   "source": [
    "results = []\n",
    "for i in range(1000):\n",
    "    results.append(compare_reward())"
   ]
  },
  {
   "cell_type": "code",
   "execution_count": null,
   "metadata": {},
   "outputs": [],
   "source": [
    "for s in q_table[max_time_steps[\"sequential\"]:]:\n",
    "    print([\"mru\", \"lru\"][np.argmax(s)])"
   ]
  },
  {
   "cell_type": "code",
   "execution_count": null,
   "metadata": {},
   "outputs": [],
   "source": []
  },
  {
   "cell_type": "code",
   "execution_count": null,
   "metadata": {},
   "outputs": [],
   "source": []
  },
  {
   "cell_type": "code",
   "execution_count": null,
   "metadata": {},
   "outputs": [],
   "source": [
    "df_reward.sort_values(\"epoch\").plot(x=\"epoch\", y=\"reward\")"
   ]
  },
  {
   "cell_type": "code",
   "execution_count": null,
   "metadata": {},
   "outputs": [],
   "source": [
    "result = \"Results/runs_{}_alpha_{}_gamma_{}_cache_{}.csv\".format(number_of_runs, alpha, gamma, cache_size)"
   ]
  },
  {
   "cell_type": "code",
   "execution_count": null,
   "metadata": {},
   "outputs": [],
   "source": [
    "df.to_csv(result)"
   ]
  },
  {
   "cell_type": "code",
   "execution_count": null,
   "metadata": {},
   "outputs": [],
   "source": []
  }
 ],
 "metadata": {
  "kernelspec": {
   "display_name": "Python 3",
   "language": "python",
   "name": "python3"
  },
  "language_info": {
   "codemirror_mode": {
    "name": "ipython",
    "version": 3
   },
   "file_extension": ".py",
   "mimetype": "text/x-python",
   "name": "python",
   "nbconvert_exporter": "python",
   "pygments_lexer": "ipython3",
   "version": "3.7.4"
  }
 },
 "nbformat": 4,
 "nbformat_minor": 2
}
